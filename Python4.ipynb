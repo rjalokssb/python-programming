{
  "nbformat": 4,
  "nbformat_minor": 0,
  "metadata": {
    "colab": {
      "provenance": []
    },
    "kernelspec": {
      "name": "python3",
      "display_name": "Python 3"
    },
    "language_info": {
      "name": "python"
    }
  },
  "cells": [
    {
      "cell_type": "markdown",
      "source": [
        "Q1. Explain Class and Object with respect to Object-Oriented Programming. Give a suitable example."
      ],
      "metadata": {
        "id": "Eb1e9NPv5yEa"
      }
    },
    {
      "cell_type": "code",
      "execution_count": 2,
      "metadata": {
        "id": "4zw-3FUj5wOb"
      },
      "outputs": [],
      "source": [
        "# Object-Oriented Programming (OOP) is a programming paradigm that uses objects to represent and manipulate data. \n",
        "# A class is a blueprint for creating objects that defines the properties and methods of the objects. \n",
        "# An object is an instance of a class that has specific values assigned to its properties.\n",
        "\n",
        "class Car:\n",
        "  def __init__(self, make, model, year):\n",
        "    self.make = make\n",
        "    self.model = model\n",
        "    self.year = year\n",
        "\n",
        "  def start(self):\n",
        "    print(f\"The {self.make} {self.model} is starting.\")\n",
        "\n",
        "  def stop(self):\n",
        "    print(f\"The {self.make} {self.model} is stopping.\")"
      ]
    },
    {
      "cell_type": "code",
      "source": [
        "car1 = Car(\"Tesla\", \"Model S\", 2022)\n",
        "car2 = Car(\"Toyota\", \"Corolla\", 2021)"
      ],
      "metadata": {
        "id": "TUM3S4Zp6pvx"
      },
      "execution_count": 3,
      "outputs": []
    },
    {
      "cell_type": "code",
      "source": [
        "car1.start()  # Output: The Tesla Model S is starting.\n",
        "car2.stop()   # Output: The Toyota Corolla is stopping."
      ],
      "metadata": {
        "colab": {
          "base_uri": "https://localhost:8080/"
        },
        "id": "7ejhGRaX60l6",
        "outputId": "f6562285-1e26-49f1-e5f9-cd21865aeae0"
      },
      "execution_count": 4,
      "outputs": [
        {
          "output_type": "stream",
          "name": "stdout",
          "text": [
            "The Tesla Model S is starting.\n",
            "The Toyota Corolla is stopping.\n"
          ]
        }
      ]
    },
    {
      "cell_type": "markdown",
      "source": [
        "Q2. Name the four pillars of OOPs."
      ],
      "metadata": {
        "id": "Zw3N5ksj51ia"
      }
    },
    {
      "cell_type": "code",
      "source": [
        "# Encapsulation: \n",
        "# Inheritance:\n",
        "# Polymorphism: \n",
        "# bstraction:"
      ],
      "metadata": {
        "id": "WG8kVk-p54-y"
      },
      "execution_count": null,
      "outputs": []
    },
    {
      "cell_type": "markdown",
      "source": [
        "Q3. Explain why the __init__() function is used. Give a suitable example."
      ],
      "metadata": {
        "id": "UeO8M9i255PC"
      }
    },
    {
      "cell_type": "code",
      "source": [
        "# The __init__() function is a constructor method in Python that is automatically called when an object of a class is created.\n",
        "# The purpose of the __init__() method is to initialize the object's properties "
      ],
      "metadata": {
        "id": "M3BCiUsC56-s"
      },
      "execution_count": null,
      "outputs": []
    },
    {
      "cell_type": "code",
      "source": [
        "class Person:\n",
        "    def __init__(self, name, age):\n",
        "        self.name = name\n",
        "        self.age = age\n",
        "\n",
        "    def greet(self):\n",
        "        print(f\"Hello, my name is {self.name} and I am {self.age} years old.\")"
      ],
      "metadata": {
        "id": "b9uQXuZB7cgd"
      },
      "execution_count": 5,
      "outputs": []
    },
    {
      "cell_type": "code",
      "source": [
        "person1 = Person(\"John\", 30)\n",
        "person1.greet()"
      ],
      "metadata": {
        "colab": {
          "base_uri": "https://localhost:8080/"
        },
        "id": "YXyBeQ3J7kXp",
        "outputId": "3c111b7a-e3df-4e1f-dc12-784d44b80ce8"
      },
      "execution_count": 6,
      "outputs": [
        {
          "output_type": "stream",
          "name": "stdout",
          "text": [
            "Hello, my name is John and I am 30 years old.\n"
          ]
        }
      ]
    },
    {
      "cell_type": "markdown",
      "source": [
        "Q4. Why self is used in OOPs?"
      ],
      "metadata": {
        "id": "AfjHOOz257e7"
      }
    },
    {
      "cell_type": "code",
      "source": [
        "# In Object-Oriented Programming (OOP), self is used to refer to the instance of a class. It is a convention used in Python and some other programming languages."
      ],
      "metadata": {
        "id": "DOMNsZDd580L"
      },
      "execution_count": null,
      "outputs": []
    },
    {
      "cell_type": "markdown",
      "source": [
        "Q5. What is inheritance? Give an example for each type of inheritance."
      ],
      "metadata": {
        "id": "jeVi4GJA59ML"
      }
    },
    {
      "cell_type": "code",
      "source": [
        "# Inheritance is a mechanism in Object-Oriented Programming (OOP) that allows a class to inherit properties and methods from another class. The class that is being inherited from is called the parent or superclass, and the class that inherits from it is called the child or subclass.\n"
      ],
      "metadata": {
        "id": "YgB2aHcV5-mr"
      },
      "execution_count": null,
      "outputs": []
    },
    {
      "cell_type": "code",
      "source": [
        "class Animal:\n",
        "    def __init__(self, name):\n",
        "        self.name = name\n",
        "\n",
        "    def speak(self):\n",
        "        print(f\"{self.name} makes a sound.\")\n",
        "\n",
        "class Dog(Animal):\n",
        "    def __init__(self, name, breed):\n",
        "        super().__init__(name)\n",
        "        self.breed = breed\n",
        "\n",
        "    def speak(self):\n",
        "        print(f\"{self.name} barks.\")\n",
        "\n",
        "dog = Dog(\"Max\", \"Poodle\")\n",
        "dog.speak()  # Output: Max barks."
      ],
      "metadata": {
        "id": "MVDGzn6075XT"
      },
      "execution_count": null,
      "outputs": []
    },
    {
      "cell_type": "code",
      "source": [],
      "metadata": {
        "id": "rBWi1nCc79QL"
      },
      "execution_count": null,
      "outputs": []
    }
  ]
}