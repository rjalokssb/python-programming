{
  "nbformat": 4,
  "nbformat_minor": 0,
  "metadata": {
    "colab": {
      "provenance": []
    },
    "kernelspec": {
      "name": "python3",
      "display_name": "Python 3"
    },
    "language_info": {
      "name": "python"
    }
  },
  "cells": [
    {
      "cell_type": "markdown",
      "source": [
        "1. Who developed Python Programming Language? "
      ],
      "metadata": {
        "id": "s0ii37rzY9Hu"
      }
    },
    {
      "cell_type": "code",
      "execution_count": null,
      "metadata": {
        "id": "KUV2mP8OYt5e"
      },
      "outputs": [],
      "source": [
        "Guido van Rossum "
      ]
    },
    {
      "cell_type": "markdown",
      "source": [
        "2. Which type of Programming does Python support?"
      ],
      "metadata": {
        "id": "bHu8jxu8Y-h0"
      }
    },
    {
      "cell_type": "code",
      "source": [
        "# Procedural programming\n",
        "# OOPS\n",
        "# Functional programming"
      ],
      "metadata": {
        "id": "z6OyGOTgZB9N"
      },
      "execution_count": null,
      "outputs": []
    },
    {
      "cell_type": "markdown",
      "source": [
        "3. Is Python case sensitive when dealing with identifiers?"
      ],
      "metadata": {
        "id": "dTMXhIjPZCON"
      }
    },
    {
      "cell_type": "code",
      "source": [
        "# yes"
      ],
      "metadata": {
        "id": "rSbej4xyZG9s"
      },
      "execution_count": null,
      "outputs": []
    },
    {
      "cell_type": "markdown",
      "source": [
        "4. What is the correct extension of the Python file? "
      ],
      "metadata": {
        "id": "kA_aDVrOZFIV"
      }
    },
    {
      "cell_type": "code",
      "source": [
        "# .py"
      ],
      "metadata": {
        "id": "PgPLnScOZKMV"
      },
      "execution_count": null,
      "outputs": []
    },
    {
      "cell_type": "markdown",
      "source": [
        "5. Is Python code compiled or interpreted?"
      ],
      "metadata": {
        "id": "3sLCZUz-ZKjF"
      }
    },
    {
      "cell_type": "code",
      "source": [
        "# interpreted"
      ],
      "metadata": {
        "id": "VEEVXooyZNNe"
      },
      "execution_count": null,
      "outputs": []
    },
    {
      "cell_type": "markdown",
      "source": [
        "6. Name a few blocks of code used to define in Python language?"
      ],
      "metadata": {
        "id": "YfOcDPZGZOZG"
      }
    },
    {
      "cell_type": "code",
      "source": [
        "Function blocks\n",
        "Conditional blocks\n",
        "Loop blocks\n",
        "Class blocks"
      ],
      "metadata": {
        "id": "FsCSJJ8xZRK2"
      },
      "execution_count": null,
      "outputs": []
    },
    {
      "cell_type": "markdown",
      "source": [
        "7. State a character used to give single-line comments in Python? "
      ],
      "metadata": {
        "id": "lVMjWejaZRiu"
      }
    },
    {
      "cell_type": "code",
      "source": [
        "#"
      ],
      "metadata": {
        "id": "l_ibsHswZUZ-"
      },
      "execution_count": null,
      "outputs": []
    },
    {
      "cell_type": "markdown",
      "source": [
        "8. Mention functions which can help us to find the version of python that we are currently working on? "
      ],
      "metadata": {
        "id": "96RIJzuUZU5m"
      }
    },
    {
      "cell_type": "code",
      "source": [
        "# python --version"
      ],
      "metadata": {
        "id": "ftrS2yBWZYTH"
      },
      "execution_count": null,
      "outputs": []
    },
    {
      "cell_type": "markdown",
      "source": [
        "9. Python supports the creation of anonymous functions at runtime, using a construct called "
      ],
      "metadata": {
        "id": "Fc24a2U1ZYyn"
      }
    },
    {
      "cell_type": "code",
      "source": [
        "# construct called \"lambda\" functions. "
      ],
      "metadata": {
        "id": "420rtTTiZa2_"
      },
      "execution_count": null,
      "outputs": []
    },
    {
      "cell_type": "markdown",
      "source": [
        "10. What does pip stand for python? "
      ],
      "metadata": {
        "id": "BQ0FPXX-ZbNX"
      }
    },
    {
      "cell_type": "code",
      "source": [
        "Pip Installs Packages"
      ],
      "metadata": {
        "id": "84NT3i4NZdPo"
      },
      "execution_count": null,
      "outputs": []
    },
    {
      "cell_type": "markdown",
      "source": [
        "11. Mention a few built-in functions in python? "
      ],
      "metadata": {
        "id": "nXB3IjzlZdjP"
      }
    },
    {
      "cell_type": "code",
      "source": [
        "print()\n",
        "type()\n",
        "len()"
      ],
      "metadata": {
        "id": "4JXPO333Zfs4"
      },
      "execution_count": null,
      "outputs": []
    },
    {
      "cell_type": "markdown",
      "source": [
        "12. What is the maximum possible length of an identifier in Python?"
      ],
      "metadata": {
        "id": "DQbyIvsgZgIA"
      }
    },
    {
      "cell_type": "code",
      "source": [
        "79 characters. "
      ],
      "metadata": {
        "id": "ZfHVz2klZiCp"
      },
      "execution_count": null,
      "outputs": []
    },
    {
      "cell_type": "markdown",
      "source": [
        "13. What are the benefits of using Python? "
      ],
      "metadata": {
        "id": "TZ3bojp2ZiXg"
      }
    },
    {
      "cell_type": "code",
      "source": [
        "Easy to learn and use\n",
        "Large standard library\n",
        "Cross-platform compatibility\n",
        "OOPS"
      ],
      "metadata": {
        "id": "QzfB2rbVZlDR"
      },
      "execution_count": null,
      "outputs": []
    },
    {
      "cell_type": "markdown",
      "source": [
        "14. How is memory managed in Python? "
      ],
      "metadata": {
        "id": "Zfy28KWDZlqI"
      }
    },
    {
      "cell_type": "code",
      "source": [
        "Memory management in Python is handled by the Python memory manager"
      ],
      "metadata": {
        "id": "ZkwloEpqZndp"
      },
      "execution_count": null,
      "outputs": []
    },
    {
      "cell_type": "markdown",
      "source": [
        "15. How to install Python on Windows and set path variables?"
      ],
      "metadata": {
        "id": "ThPFGrSfZqcp"
      }
    },
    {
      "cell_type": "code",
      "source": [
        "Download Python: Go to the Python downloads page at https://www.python.org/downloads/ and download the latest version of Python for Windows.\n",
        "\n",
        "Run the installer: Once the download is complete, run the installer and follow the on-screen instructions to install Python on your system.\n",
        "\n",
        "Add Python to the system PATH: After installing Python, you need to add it to the system PATH so that you can run Python commands from the command prompt. To do this, follow these steps:\n",
        "\n",
        "Open the Start menu and search for \"Environment Variables\"\n",
        "Click on \"Edit the system environment variables\"\n",
        "Click on the \"Environment Variables\" button\n",
        "Under \"System Variables\", scroll down and find the \"Path\" variable, then click on \"Edit\"\n",
        "Click on \"New\" and add the path to your Python installation directory. The default path for Python 3 is \"C:\\Python3X\" (replace \"X\" with the minor version number), but you should replace this with the actual path to your Python installation.\n",
        "Click \"OK\" to close all the windows."
      ],
      "metadata": {
        "id": "mmzFPGRXZq5Z"
      },
      "execution_count": null,
      "outputs": []
    },
    {
      "cell_type": "markdown",
      "source": [
        " 16. Is indentation required in python? \n"
      ],
      "metadata": {
        "id": "kGGq3osNb8gd"
      }
    },
    {
      "cell_type": "code",
      "source": [
        "yes"
      ],
      "metadata": {
        "id": "UAY7S_6sb9Ct"
      },
      "execution_count": null,
      "outputs": []
    }
  ]
}