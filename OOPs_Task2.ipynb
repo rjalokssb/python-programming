{
  "nbformat": 4,
  "nbformat_minor": 0,
  "metadata": {
    "colab": {
      "provenance": []
    },
    "kernelspec": {
      "name": "python3",
      "display_name": "Python 3"
    },
    "language_info": {
      "name": "python"
    }
  },
  "cells": [
    {
      "cell_type": "markdown",
      "source": [
        "Q1, Create a vehicle class with an init method having instance variables as name_of_vehicle, max_speed\n",
        "and average_of_vehicle."
      ],
      "metadata": {
        "id": "iWgkeExmOXeB"
      }
    },
    {
      "cell_type": "code",
      "source": [
        "class vehicle:\n",
        "  def __init__(self, name_of_vehicle, max_speed, average_of_vehicle):\n",
        "    self.name_of_vehicle = name_of_vehicle\n",
        "    self.max_speed = max_speed\n",
        "    self.average_of_vehicle = average_of_vehicle"
      ],
      "metadata": {
        "id": "zn0wCu8YOY7I"
      },
      "execution_count": 1,
      "outputs": []
    },
    {
      "cell_type": "code",
      "source": [
        "car =  vehicle('honda', 300, 45)"
      ],
      "metadata": {
        "id": "Xap3X6VxPGze"
      },
      "execution_count": 2,
      "outputs": []
    },
    {
      "cell_type": "code",
      "source": [
        "car.average_of_vehicle"
      ],
      "metadata": {
        "colab": {
          "base_uri": "https://localhost:8080/"
        },
        "id": "kQoBmA_APR_4",
        "outputId": "098e558b-f44d-4e57-da34-502d83170bc5"
      },
      "execution_count": 3,
      "outputs": [
        {
          "output_type": "execute_result",
          "data": {
            "text/plain": [
              "45"
            ]
          },
          "metadata": {},
          "execution_count": 3
        }
      ]
    },
    {
      "cell_type": "code",
      "source": [
        "car.max_speed"
      ],
      "metadata": {
        "colab": {
          "base_uri": "https://localhost:8080/"
        },
        "id": "bin9Ocj7PRwe",
        "outputId": "bdbb5e05-32b0-4855-d3f1-9f1b77d6c742"
      },
      "execution_count": 4,
      "outputs": [
        {
          "output_type": "execute_result",
          "data": {
            "text/plain": [
              "300"
            ]
          },
          "metadata": {},
          "execution_count": 4
        }
      ]
    },
    {
      "cell_type": "code",
      "source": [
        "car.name_of_vehicle"
      ],
      "metadata": {
        "colab": {
          "base_uri": "https://localhost:8080/",
          "height": 35
        },
        "id": "drKCQ7V1PRcm",
        "outputId": "ad379669-fdd8-4e84-c687-2f55de89bf00"
      },
      "execution_count": 6,
      "outputs": [
        {
          "output_type": "execute_result",
          "data": {
            "text/plain": [
              "'honda'"
            ],
            "application/vnd.google.colaboratory.intrinsic+json": {
              "type": "string"
            }
          },
          "metadata": {},
          "execution_count": 6
        }
      ]
    },
    {
      "cell_type": "markdown",
      "source": [
        "Q2. Create a child class car from the vehicle class created in Que 1, which will inherit the vehicle class.\n",
        "Create a method named seating_capacity which takes capacity as an argument and returns the name of\n",
        "the vehicle and its seating capacity."
      ],
      "metadata": {
        "id": "p1AGqOIlOZOP"
      }
    },
    {
      "cell_type": "code",
      "source": [
        "class Car(vehicle):\n",
        "    def __init__(self, name_of_vehicle, max_speed, average_of_vehicle):\n",
        "        super().__init__(name_of_vehicle, max_speed, average_of_vehicle)\n",
        "    \n",
        "    def seating_capacity(self, capacity):\n",
        "        return f\"{self.name_of_vehicle} has a seating capacity of {capacity} passengers.\""
      ],
      "metadata": {
        "id": "Yzf6QSOTOa5_"
      },
      "execution_count": 8,
      "outputs": []
    },
    {
      "cell_type": "code",
      "source": [
        "car = Car(\"Car\", 200, 30)\n",
        "print(car.seating_capacity(5))"
      ],
      "metadata": {
        "colab": {
          "base_uri": "https://localhost:8080/"
        },
        "id": "UamXT9coPvoc",
        "outputId": "39d7fc3d-bc9d-4c93-df1e-de76dc4253d6"
      },
      "execution_count": 9,
      "outputs": [
        {
          "output_type": "stream",
          "name": "stdout",
          "text": [
            "Car has a seating capacity of 5 passengers.\n"
          ]
        }
      ]
    },
    {
      "cell_type": "markdown",
      "source": [
        "Q3. What is multiple inheritance? Write a python code to demonstrate multiple inheritance."
      ],
      "metadata": {
        "id": "pgob6_XCObQP"
      }
    },
    {
      "cell_type": "code",
      "source": [
        "# Multiple inheritance is a feature of object-oriented programming where a class can inherit from multiple parent classes. In Python, we can define a class that inherits from multiple parent classes by specifying them in the class definition separated by commas.\n",
        "\n",
        "class A:\n",
        "    def method_a(self):\n",
        "        print(\"Method A\")\n",
        "\n",
        "class B:\n",
        "    def method_b(self):\n",
        "        print(\"Method B\")\n",
        "\n",
        "class C(A, B):\n",
        "    def method_c(self):\n",
        "        print(\"Method C\")"
      ],
      "metadata": {
        "id": "D4lyHF3COc9P"
      },
      "execution_count": 10,
      "outputs": []
    },
    {
      "cell_type": "code",
      "source": [
        "obj = C()"
      ],
      "metadata": {
        "id": "Uaeov3gIQJmK"
      },
      "execution_count": 12,
      "outputs": []
    },
    {
      "cell_type": "code",
      "source": [
        "obj.method_a()"
      ],
      "metadata": {
        "colab": {
          "base_uri": "https://localhost:8080/"
        },
        "id": "Eexzr8YTQJi_",
        "outputId": "5fbb7a9b-00c9-49c9-d7ac-aa72edee274f"
      },
      "execution_count": 13,
      "outputs": [
        {
          "output_type": "stream",
          "name": "stdout",
          "text": [
            "Method A\n"
          ]
        }
      ]
    },
    {
      "cell_type": "code",
      "source": [
        "obj.method_b()"
      ],
      "metadata": {
        "colab": {
          "base_uri": "https://localhost:8080/"
        },
        "id": "sHKp3IiEQJfm",
        "outputId": "547bc558-33db-4a47-f97f-ca3b630027c8"
      },
      "execution_count": 14,
      "outputs": [
        {
          "output_type": "stream",
          "name": "stdout",
          "text": [
            "Method B\n"
          ]
        }
      ]
    },
    {
      "cell_type": "code",
      "source": [
        "obj.method_c()"
      ],
      "metadata": {
        "colab": {
          "base_uri": "https://localhost:8080/"
        },
        "id": "TfudEvMrQJcX",
        "outputId": "de5655e3-8159-4150-eff4-483a6c1bb4f5"
      },
      "execution_count": 15,
      "outputs": [
        {
          "output_type": "stream",
          "name": "stdout",
          "text": [
            "Method C\n"
          ]
        }
      ]
    },
    {
      "cell_type": "markdown",
      "source": [
        "Q4. What are getter and setter in python? Create a class and create a getter and a setter method in this\n",
        "class."
      ],
      "metadata": {
        "id": "MGLrEGzYOdPv"
      }
    },
    {
      "cell_type": "code",
      "source": [
        "# Getter and setter methods are a way to access and modify the private instance variables of a class in Python\n",
        "\n",
        "class MyClass:\n",
        "    def __init__(self):\n",
        "        self.__my_variable = None\n",
        "    \n",
        "    def get_my_variable(self):\n",
        "        return self.__my_variable\n",
        "    \n",
        "    def set_my_variable(self, value):\n",
        "        self.__my_variable = value"
      ],
      "metadata": {
        "id": "EMxUEPHaOe1A"
      },
      "execution_count": 16,
      "outputs": []
    },
    {
      "cell_type": "code",
      "source": [
        "obj = MyClass()\n",
        "obj.set_my_variable(42)\n",
        "print(obj.get_my_variable())"
      ],
      "metadata": {
        "colab": {
          "base_uri": "https://localhost:8080/"
        },
        "id": "ExR6EQiUQny5",
        "outputId": "dbcc2554-d0e4-422e-9ead-ef9d6c48f37b"
      },
      "execution_count": 17,
      "outputs": [
        {
          "output_type": "stream",
          "name": "stdout",
          "text": [
            "42\n"
          ]
        }
      ]
    },
    {
      "cell_type": "markdown",
      "source": [
        "Q5.What is method overriding in python? Write a python code to demonstrate method overriding."
      ],
      "metadata": {
        "id": "E1Z40z7TOfOo"
      }
    },
    {
      "cell_type": "code",
      "source": [
        "class Parent:\n",
        "    def my_method(self):\n",
        "        print(\"Parent method\")\n",
        "        \n",
        "class Child(Parent):\n",
        "    def my_method(self):\n",
        "        print(\"Child method\")\n",
        "        \n",
        "parent_obj = Parent()\n",
        "child_obj = Child()"
      ],
      "metadata": {
        "id": "ZR7LqFmGOg75"
      },
      "execution_count": 18,
      "outputs": []
    },
    {
      "cell_type": "code",
      "source": [
        "parent_obj.my_method()"
      ],
      "metadata": {
        "colab": {
          "base_uri": "https://localhost:8080/"
        },
        "id": "p818NzK7Q1Jz",
        "outputId": "7cea9aa8-71f7-4ba3-87a8-e4131682ba9a"
      },
      "execution_count": 19,
      "outputs": [
        {
          "output_type": "stream",
          "name": "stdout",
          "text": [
            "Parent method\n"
          ]
        }
      ]
    },
    {
      "cell_type": "code",
      "source": [
        "child_obj.my_method()"
      ],
      "metadata": {
        "id": "F2P4ibWgQ6_5",
        "outputId": "01dadd45-ed3b-419a-fd0d-200585b365de",
        "colab": {
          "base_uri": "https://localhost:8080/"
        }
      },
      "execution_count": 20,
      "outputs": [
        {
          "output_type": "stream",
          "name": "stdout",
          "text": [
            "Child method\n"
          ]
        }
      ]
    }
  ]
}