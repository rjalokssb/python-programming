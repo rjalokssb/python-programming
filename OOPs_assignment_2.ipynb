{
  "nbformat": 4,
  "nbformat_minor": 0,
  "metadata": {
    "colab": {
      "provenance": []
    },
    "kernelspec": {
      "name": "python3",
      "display_name": "Python 3"
    },
    "language_info": {
      "name": "python"
    }
  },
  "cells": [
    {
      "cell_type": "markdown",
      "source": [
        "Q1. Which function is used to open a file? What are the different modes of opening a file? Explain each mode\n",
        "of file opening."
      ],
      "metadata": {
        "id": "HbcEgqhybm8C"
      }
    },
    {
      "cell_type": "code",
      "execution_count": null,
      "metadata": {
        "id": "IFkBtzJcbje0"
      },
      "outputs": [],
      "source": [
        "# In Python, the built-in function open() is used to open a file. \n",
        "file = open('example.txt', 'w')\n",
        "\n",
        "# Once the file is opened, we can use various methods to read from or write to the file, such as \n",
        "read(), \n",
        "readline(), \n",
        "write(), \n",
        "writelines(),  \n",
        "close()"
      ]
    },
    {
      "cell_type": "markdown",
      "source": [
        "Q2. Why close() function is used? Why is it important to close a file?"
      ],
      "metadata": {
        "id": "UDbO7WuGbn9p"
      }
    },
    {
      "cell_type": "code",
      "source": [
        "# The close() function is used in Python to close an opened file\n",
        "Save any changes that were made to the file\n",
        "Free system resources\n",
        "Allow other processes to access the file"
      ],
      "metadata": {
        "id": "U0vF01ARbpKm"
      },
      "execution_count": null,
      "outputs": []
    },
    {
      "cell_type": "markdown",
      "source": [
        "Q3. Write a python program to create a text file. Write ‘I want to become a Data Scientist’ in that file. Then\n",
        "close the file. Open this file and read the content of the file."
      ],
      "metadata": {
        "id": "SnmCaQ1lbpaZ"
      }
    },
    {
      "cell_type": "code",
      "source": [
        "file = open('example.txt', 'w')"
      ],
      "metadata": {
        "id": "ZRfs1LBnbrEx"
      },
      "execution_count": 1,
      "outputs": []
    },
    {
      "cell_type": "code",
      "source": [
        "file.write('I want to become a Data Scientist')"
      ],
      "metadata": {
        "colab": {
          "base_uri": "https://localhost:8080/"
        },
        "id": "BZMK4f9lcZgX",
        "outputId": "938c8943-1466-466a-a546-adf45d8391d8"
      },
      "execution_count": 2,
      "outputs": [
        {
          "output_type": "execute_result",
          "data": {
            "text/plain": [
              "33"
            ]
          },
          "metadata": {},
          "execution_count": 2
        }
      ]
    },
    {
      "cell_type": "code",
      "source": [
        "file.close()"
      ],
      "metadata": {
        "id": "GweoSAAVcddQ"
      },
      "execution_count": 3,
      "outputs": []
    },
    {
      "cell_type": "code",
      "source": [
        "file = open('example.txt', 'r')"
      ],
      "metadata": {
        "id": "guZbt5ZXcdZY"
      },
      "execution_count": 4,
      "outputs": []
    },
    {
      "cell_type": "code",
      "source": [
        "content = file.read()"
      ],
      "metadata": {
        "id": "jHKmcMk1ch-5"
      },
      "execution_count": 5,
      "outputs": []
    },
    {
      "cell_type": "code",
      "source": [
        "print(content)"
      ],
      "metadata": {
        "colab": {
          "base_uri": "https://localhost:8080/"
        },
        "id": "KU_YG8eUch7w",
        "outputId": "c4dd0185-e5d6-466b-9800-31ce3a1d0984"
      },
      "execution_count": 6,
      "outputs": [
        {
          "output_type": "stream",
          "name": "stdout",
          "text": [
            "I want to become a Data Scientist\n"
          ]
        }
      ]
    },
    {
      "cell_type": "code",
      "source": [
        "file.close()"
      ],
      "metadata": {
        "id": "Otk8qUfXch4Y"
      },
      "execution_count": 7,
      "outputs": []
    },
    {
      "cell_type": "markdown",
      "source": [
        "Q4. Explain the following with python code: read(), readline() and readlines()."
      ],
      "metadata": {
        "id": "SXxDCL98brex"
      }
    },
    {
      "cell_type": "code",
      "source": [
        "# read(): This method reads the entire content of a file as a single string.\n",
        "# readline(): This method reads a single line from a file.\n",
        "# readlines(): This method reads all the lines of a file and returns them as a list of strings."
      ],
      "metadata": {
        "id": "8KPrCdC1bs7c"
      },
      "execution_count": null,
      "outputs": []
    },
    {
      "cell_type": "markdown",
      "source": [
        "Q5. Explain why with statement is used with open(). What is the advantage of using with statement and\n",
        "open() together?"
      ],
      "metadata": {
        "id": "UoKV8logbtNB"
      }
    },
    {
      "cell_type": "code",
      "source": [
        "# The advantage of using the with statement with open() is that it makes it easy to ensure that a file is properly closed after it has been used, without having to remember to call the close() method."
      ],
      "metadata": {
        "id": "fBhAqA4DbuwC"
      },
      "execution_count": null,
      "outputs": []
    },
    {
      "cell_type": "markdown",
      "source": [
        "Q6. Explain the write() and writelines() functions. Give a suitable example."
      ],
      "metadata": {
        "id": "UHY56SXwbvJJ"
      }
    },
    {
      "cell_type": "code",
      "source": [
        "# The write() function is used to write a single string to a file. \n",
        "with open('example.txt', 'w') as file:\n",
        "    file.write('Hello, world!')"
      ],
      "metadata": {
        "id": "U5PKN_vvbwuh"
      },
      "execution_count": 8,
      "outputs": []
    },
    {
      "cell_type": "code",
      "source": [
        "# The writelines() function, on the other hand, is used to write multiple strings to a file. \n",
        "with open('example.txt', 'w') as file:\n",
        "    lines = ['line 1\\n', 'line 2\\n', 'line 3\\n']\n",
        "    file.writelines(lines)"
      ],
      "metadata": {
        "id": "nYt-rdu5dM6e"
      },
      "execution_count": 9,
      "outputs": []
    }
  ]
}