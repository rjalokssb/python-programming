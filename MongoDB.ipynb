{
  "nbformat": 4,
  "nbformat_minor": 0,
  "metadata": {
    "colab": {
      "provenance": []
    },
    "kernelspec": {
      "name": "python3",
      "display_name": "Python 3"
    },
    "language_info": {
      "name": "python"
    }
  },
  "cells": [
    {
      "cell_type": "markdown",
      "source": [
        "Q1. What is MongoDB? Explain non-relational databases in short. In which scenarios it is preferred to use\n",
        "MongoDB over SQL databases?"
      ],
      "metadata": {
        "id": "l0QUyRf3hzMq"
      }
    },
    {
      "cell_type": "code",
      "source": [
        "# MongoDB is a popular non-relational, document-oriented database that stores data in flexible, JSON-like documents.\n",
        "# NoSQL databases use different data models and can store unstructured or semi-structured data, such as JSON documents or key-value pairs. \n",
        "# MongoDB is preferred over SQL databases in scenarios where there is a need for flexibility and scalability, such as when dealing with large volumes of unstructured data, handling complex data models or when data is rapidly changing. "
      ],
      "metadata": {
        "id": "pWmvPUImh0gQ"
      },
      "execution_count": null,
      "outputs": []
    },
    {
      "cell_type": "markdown",
      "source": [
        "Q2. State and Explain the features of MongoDB."
      ],
      "metadata": {
        "id": "omqXMRASh2Vo"
      }
    },
    {
      "cell_type": "code",
      "source": [
        "Document-oriented\n",
        "Scalability\n",
        "High performance\n",
        "Flexibility"
      ],
      "metadata": {
        "id": "_WBgYqQyh3tB"
      },
      "execution_count": null,
      "outputs": []
    },
    {
      "cell_type": "markdown",
      "source": [
        "Q3. Write a code to connect MongoDB to Python. Also, create a database and a collection in MongoDB."
      ],
      "metadata": {
        "id": "iwHsP2i1h4FB"
      }
    },
    {
      "cell_type": "code",
      "source": [
        "# Import the pymongo library\n",
        "import pymongo\n",
        "\n",
        "# Connect to MongoDB\n",
        "client = pymongo.MongoClient(\"mongodb://localhost:27017/\")\n",
        "\n",
        "# Create a database\n",
        "mydb = client[\"mydatabase\"]\n",
        "\n",
        "# Create a collection\n",
        "mycol = mydb[\"customers\"]"
      ],
      "metadata": {
        "id": "pk8iVWTkh6Cx"
      },
      "execution_count": null,
      "outputs": []
    },
    {
      "cell_type": "markdown",
      "source": [
        "Q4. Using the database and the collection created in question number 3, write a code to insert one record,\n",
        "and insert many records. Use the find() and find_one() methods to print the inserted record."
      ],
      "metadata": {
        "id": "vB8L6wpfh6dx"
      }
    },
    {
      "cell_type": "code",
      "source": [
        "# Import the pymongo library\n",
        "import pymongo\n",
        "\n",
        "# Connect to MongoDB\n",
        "client = pymongo.MongoClient(\"mongodb://localhost:27017/\")\n",
        "\n",
        "# Create a database\n",
        "mydb = client[\"mydatabase\"]\n",
        "\n",
        "# Create a collection\n",
        "mycol = mydb[\"customers\"]\n",
        "\n",
        "# Insert one record\n",
        "record = {\"name\": \"John\", \"address\": \"Highway 37\"}\n",
        "insert_one_result = mycol.insert_one(record)\n",
        "print(\"Inserted ID:\", insert_one_result.inserted_id)\n",
        "\n",
        "# Insert many records\n",
        "records = [\n",
        "  {\"name\": \"Peter\", \"address\": \"Lowstreet 27\"},\n",
        "  {\"name\": \"Amy\", \"address\": \"Apple st 652\"},\n",
        "  {\"name\": \"Hannah\", \"address\": \"Mountain 21\"},\n",
        "  {\"name\": \"Michael\", \"address\": \"Valley 345\"},\n",
        "  {\"name\": \"Sandy\", \"address\": \"Ocean blvd 2\"},\n",
        "  {\"name\": \"Betty\", \"address\": \"Green Grass 1\"},\n",
        "  {\"name\": \"Richard\", \"address\": \"Sky st 331\"},\n",
        "  {\"name\": \"Susan\", \"address\": \"One way 98\"},\n",
        "  {\"name\": \"Vicky\", \"address\": \"Yellow Garden 2\"},\n",
        "  {\"name\": \"Ben\", \"address\": \"Park Lane 38\"},\n",
        "  {\"name\": \"William\", \"address\": \"Central st 954\"},\n",
        "  {\"name\": \"Chuck\", \"address\": \"Main Road 989\"},\n",
        "  {\"name\": \"Viola\", \"address\": \"Sideway 1633\"}\n",
        "]\n",
        "insert_many_result = mycol.insert_many(records)\n",
        "print(\"Inserted IDs:\", insert_many_result.inserted_ids)\n",
        "\n",
        "# Find one record\n",
        "result = mycol.find_one({\"name\": \"John\"})\n",
        "print(\"Find one:\", result)\n",
        "\n",
        "# Find all records\n",
        "results = mycol.find()\n",
        "for r in results:\n",
        "    print(\"Find all:\", r)"
      ],
      "metadata": {
        "id": "yG123Cd6h8Hx"
      },
      "execution_count": null,
      "outputs": []
    },
    {
      "cell_type": "markdown",
      "source": [
        "Q5. Explain how you can use the find() method to query the MongoDB database. Write a simple code to\n",
        "demonstrate this."
      ],
      "metadata": {
        "id": "sCM-muy3h8Y5"
      }
    },
    {
      "cell_type": "code",
      "source": [
        "# Import the pymongo library\n",
        "import pymongo\n",
        "\n",
        "# Connect to MongoDB\n",
        "client = pymongo.MongoClient(\"mongodb://localhost:27017/\")\n",
        "\n",
        "# Create a database\n",
        "mydb = client[\"mydatabase\"]\n",
        "\n",
        "# Create a collection\n",
        "mycol = mydb[\"customers\"]\n",
        "\n",
        "# Query the collection\n",
        "query = {\"address\": {\"$regex\": \"^S\"}}\n",
        "results = mycol.find(query)\n",
        "\n",
        "# Print the results\n",
        "for r in results:\n",
        "    print(r)"
      ],
      "metadata": {
        "id": "qqdC59m8h-Ci"
      },
      "execution_count": null,
      "outputs": []
    },
    {
      "cell_type": "markdown",
      "source": [
        "Q6. Explain the sort() method. Give an example to demonstrate sorting in MongoDB."
      ],
      "metadata": {
        "id": "5SQt2B4uh-ey"
      }
    },
    {
      "cell_type": "code",
      "source": [
        "import pymongo\n",
        "\n",
        "# Connect to MongoDB\n",
        "client = pymongo.MongoClient(\"mongodb://localhost:27017/\")\n",
        "\n",
        "# Create a database\n",
        "mydb = client[\"mydatabase\"]\n",
        "\n",
        "# Create a collection\n",
        "mycol = mydb[\"customers\"]\n",
        "\n",
        "# Insert some documents\n",
        "records = [\n",
        "  {\"name\": \"Peter\", \"address\": \"Lowstreet 27\", \"age\": 32},\n",
        "  {\"name\": \"Amy\", \"address\": \"Apple st 652\", \"age\": 21},\n",
        "  {\"name\": \"Hannah\", \"address\": \"Mountain 21\", \"age\": 35},\n",
        "  {\"name\": \"Michael\", \"address\": \"Valley 345\", \"age\": 40},\n",
        "  {\"name\": \"Sandy\", \"address\": \"Ocean blvd 2\", \"age\": 25},\n",
        "  {\"name\": \"Betty\", \"address\": \"Green Grass 1\", \"age\": 28},\n",
        "  {\"name\": \"Richard\", \"address\": \"Sky st 331\", \"age\": 50},\n",
        "  {\"name\": \"Susan\", \"address\": \"One way 98\", \"age\": 18},\n",
        "  {\"name\": \"Vicky\", \"address\": \"Yellow Garden 2\", \"age\": 22},\n",
        "  {\"name\": \"Ben\", \"address\": \"Park Lane 38\", \"age\": 45},\n",
        "  {\"name\": \"William\", \"address\": \"Central st 954\", \"age\": 29},\n",
        "  {\"name\": \"Chuck\", \"address\": \"Main Road 989\", \"age\": 27},\n",
        "  {\"name\": \"Viola\", \"address\": \"Sideway 1633\", \"age\": 31}\n",
        "]\n",
        "mycol.insert_many(records)\n",
        "\n",
        "# Sort the collection by name in ascending order\n",
        "results = mycol.find().sort(\"name\", 1)\n",
        "\n",
        "# Print the results\n",
        "print(\"Sorted by name in ascending order:\")\n",
        "for r in results:\n",
        "    print(r)\n",
        "\n",
        "# Sort the collection by age in descending order\n",
        "results = mycol.find().sort([(\"age\", -1)])\n",
        "\n",
        "# Print the results\n",
        "print(\"Sorted by age in descending order:\")\n",
        "for r in results:\n",
        "    print(r)"
      ],
      "metadata": {
        "id": "SmBJcXc8iAQi"
      },
      "execution_count": null,
      "outputs": []
    },
    {
      "cell_type": "markdown",
      "source": [
        "Q7. Explain why delete_one(), delete_many(), and drop() is used."
      ],
      "metadata": {
        "id": "qD2ECCmKiAkC"
      }
    },
    {
      "cell_type": "code",
      "source": [
        "delete_one() is used when you want to delete a single document from a collection that matches a specific filter. For example, you might use delete_one() to remove a single customer from a customers collection based on their email address."
      ],
      "metadata": {
        "id": "oHqpyv_aiCAa"
      },
      "execution_count": null,
      "outputs": []
    }
  ]
}