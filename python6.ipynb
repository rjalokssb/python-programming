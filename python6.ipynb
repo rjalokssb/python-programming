{
  "nbformat": 4,
  "nbformat_minor": 0,
  "metadata": {
    "colab": {
      "provenance": []
    },
    "kernelspec": {
      "name": "python3",
      "display_name": "Python 3"
    },
    "language_info": {
      "name": "python"
    }
  },
  "cells": [
    {
      "cell_type": "code",
      "execution_count": 5,
      "metadata": {
        "colab": {
          "base_uri": "https://localhost:8080/"
        },
        "id": "dW0IO1gscy6m",
        "outputId": "bb38627f-f6ef-4d92-e362-6ad8f5dc8ad9"
      },
      "outputs": [
        {
          "output_type": "stream",
          "name": "stdout",
          "text": [
            "enter the percentage: 56\n",
            "Grade D\n"
          ]
        }
      ],
      "source": [
        "marks = int(input('enter the percentage: '))\n",
        "if marks > 90:\n",
        "  print('Grade A')\n",
        "elif marks > 80 and marks <=90:\n",
        "  print('Grade B')\n",
        "elif marks >= 60 and marks <=80:\n",
        "  print('Grade C')\n",
        "else:\n",
        "  print('Grade D')"
      ]
    },
    {
      "cell_type": "code",
      "source": [
        "cost_price = int(input('Enter the cost price: '))\n",
        "\n",
        "if cost_price > 100000:\n",
        "  print('Road Tax 15%')\n",
        "elif cost_price >50000 and cost_price <= 100000:\n",
        "  print('Road Tax 10%')\n",
        "else:\n",
        "  print('Road Tax 5%')"
      ],
      "metadata": {
        "colab": {
          "base_uri": "https://localhost:8080/"
        },
        "id": "F2b1qBlkhzBl",
        "outputId": "4fd16799-9d4e-4f99-d01f-9f1af52f679c"
      },
      "execution_count": 9,
      "outputs": [
        {
          "output_type": "stream",
          "name": "stdout",
          "text": [
            "Enter the cost price: 42000\n",
            "Road Tax 5%\n"
          ]
        }
      ]
    },
    {
      "cell_type": "code",
      "source": [
        "city = input('Enter city name: ')\n",
        "\n",
        "if city == 'Delhi':\n",
        "  print('Red Fort')\n",
        "elif city == 'Agra':\n",
        "  print('Taj Mahal')\n",
        "elif city == 'Jaipur':\n",
        "  print('Jal Mahal')"
      ],
      "metadata": {
        "colab": {
          "base_uri": "https://localhost:8080/"
        },
        "id": "rRCVHsWNi0uU",
        "outputId": "fdde063e-784a-4aff-8b89-8545f8b9d966"
      },
      "execution_count": 11,
      "outputs": [
        {
          "output_type": "stream",
          "name": "stdout",
          "text": [
            "Enter city name: Agra\n",
            "Taj Mahal\n"
          ]
        }
      ]
    },
    {
      "cell_type": "markdown",
      "source": [
        "4. Check how many times a given number can be divided by 3 before it is less than or equal to 10"
      ],
      "metadata": {
        "id": "VdoeIpFgjukX"
      }
    },
    {
      "cell_type": "code",
      "source": [
        "num = int(input('Enter a No.'))\n",
        "\n",
        "counter = 0\n",
        "while num > 10:\n",
        "  num = num / 3\n",
        "  counter += 1\n",
        "print(counter)"
      ],
      "metadata": {
        "colab": {
          "base_uri": "https://localhost:8080/"
        },
        "id": "drKHMR_fjWey",
        "outputId": "4289e928-59a3-4c48-f842-07417e5121d0"
      },
      "execution_count": 21,
      "outputs": [
        {
          "output_type": "stream",
          "name": "stdout",
          "text": [
            "Enter a No.60\n",
            "2\n"
          ]
        }
      ]
    },
    {
      "cell_type": "markdown",
      "source": [
        "5. Why and When to Use while Loop in Python give a detailed description with example "
      ],
      "metadata": {
        "id": "UQIzSqWtjv2v"
      }
    },
    {
      "cell_type": "code",
      "source": [
        "# It is used when you want to repeat a set of statements while a specific condition is met."
      ],
      "metadata": {
        "id": "tf0t0oj3jyJH"
      },
      "execution_count": null,
      "outputs": []
    },
    {
      "cell_type": "markdown",
      "source": [
        "6. Use nested while loop to print 3 different pattern."
      ],
      "metadata": {
        "id": "SufB1eRFjyg_"
      }
    },
    {
      "cell_type": "code",
      "source": [
        "# define the size of the triangle\n",
        "size = 5\n",
        "\n",
        "# initialize the row and column counters\n",
        "row = 1\n",
        "col = 1\n",
        "\n",
        "# loop through each row\n",
        "while row <= size:\n",
        "  # print each column for the current row\n",
        "  while col <= row:\n",
        "    print(\"*\", end=\"\")\n",
        "    col += 1\n",
        "  print()  # move to the next line\n",
        "  row += 1\n",
        "  col = 1  # reset the column counter"
      ],
      "metadata": {
        "colab": {
          "base_uri": "https://localhost:8080/"
        },
        "id": "g_DvkcBJj1Cn",
        "outputId": "a2d3de58-138f-4cf9-e0d3-337391efacc7"
      },
      "execution_count": 28,
      "outputs": [
        {
          "output_type": "stream",
          "name": "stdout",
          "text": [
            "*\n",
            "**\n",
            "***\n",
            "****\n",
            "*****\n"
          ]
        }
      ]
    },
    {
      "cell_type": "code",
      "source": [
        "# define the size of the triangle\n",
        "size = 5\n",
        "\n",
        "# initialize the row and column counters\n",
        "row = 1\n",
        "col = 1\n",
        "\n",
        "# loop through each row\n",
        "while row <= size:\n",
        "  # print each column for the current row\n",
        "  while col <= size:\n",
        "    print(\"*\", end=\"\")\n",
        "    col += 1\n",
        "  print()  # move to the next line\n",
        "  row += 1\n",
        "  col = 1  # reset the column counter"
      ],
      "metadata": {
        "colab": {
          "base_uri": "https://localhost:8080/"
        },
        "id": "KprTl1kYniBH",
        "outputId": "1805df42-0b63-4158-8a02-1168449f5331"
      },
      "execution_count": 29,
      "outputs": [
        {
          "output_type": "stream",
          "name": "stdout",
          "text": [
            "*****\n",
            "*****\n",
            "*****\n",
            "*****\n",
            "*****\n"
          ]
        }
      ]
    },
    {
      "cell_type": "code",
      "source": [
        "# define the size of the diamond\n",
        "size = 5\n",
        "\n",
        "# initialize the row and column counters\n",
        "row = 1\n",
        "col = 1\n",
        "\n",
        "# loop through each row\n",
        "while row <= size:\n",
        "    # print spaces for the upper half of the diamond\n",
        "    while col <= size - row:\n",
        "        print(\" \", end=\"\")\n",
        "        col += 1\n",
        "    # print asterisks for the upper half of the diamond\n",
        "    while col <= size:\n",
        "        print(\"*\", end=\"\")\n",
        "        col += 1\n",
        "    print()  # move to the next line\n",
        "    row += 1\n",
        "    col = 1  # reset the column counter\n",
        "\n",
        "# loop through each row for the lower half of the diamond\n",
        "row = 1\n",
        "while row <= size - 1:\n",
        "    # print spaces for the lower half of the diamond\n",
        "    col = 1\n",
        "    while col <= row:\n",
        "        print(\" \", end=\"\")\n",
        "        col += 1\n",
        "    # print asterisks for the lower half of the diamond\n",
        "    col = 1\n",
        "    while col <= size - row:\n",
        "        print(\"*\", end=\"\")\n",
        "        col += 1\n",
        "    print()  # move to the next line\n",
        "    row += 1"
      ],
      "metadata": {
        "colab": {
          "base_uri": "https://localhost:8080/"
        },
        "id": "MK4Q1IjPn0iy",
        "outputId": "fa54b361-d2ce-4436-b84d-615b4f242097"
      },
      "execution_count": 32,
      "outputs": [
        {
          "output_type": "stream",
          "name": "stdout",
          "text": [
            "    *\n",
            "   **\n",
            "  ***\n",
            " ****\n",
            "*****\n",
            " ****\n",
            "  ***\n",
            "   **\n",
            "    *\n"
          ]
        }
      ]
    },
    {
      "cell_type": "markdown",
      "source": [
        "7. Reverse a while loop to display numbers from 10 to 1. "
      ],
      "metadata": {
        "id": "sJqPC0a4j1UP"
      }
    },
    {
      "cell_type": "code",
      "source": [
        "num = 10\n",
        "while num >= 1:\n",
        "  print(num)\n",
        "  num -= 1"
      ],
      "metadata": {
        "colab": {
          "base_uri": "https://localhost:8080/"
        },
        "id": "o29XlnNsj3vX",
        "outputId": "b1775cc6-4907-4557-8908-ae01bf1029e1"
      },
      "execution_count": 33,
      "outputs": [
        {
          "output_type": "stream",
          "name": "stdout",
          "text": [
            "10\n",
            "9\n",
            "8\n",
            "7\n",
            "6\n",
            "5\n",
            "4\n",
            "3\n",
            "2\n",
            "1\n"
          ]
        }
      ]
    },
    {
      "cell_type": "markdown",
      "source": [
        "8. Reverse a while loop to display numbers from 10 to 1"
      ],
      "metadata": {
        "id": "NXGL5whFj4En"
      }
    },
    {
      "cell_type": "code",
      "source": [
        "num = 10\n",
        "while num >=1:\n",
        "  print(num)\n",
        "  num -= 1"
      ],
      "metadata": {
        "colab": {
          "base_uri": "https://localhost:8080/"
        },
        "id": "5gJ5LxV9j6Ag",
        "outputId": "66a01266-e58f-4de3-efc5-be1335f2b397"
      },
      "execution_count": 34,
      "outputs": [
        {
          "output_type": "stream",
          "name": "stdout",
          "text": [
            "10\n",
            "9\n",
            "8\n",
            "7\n",
            "6\n",
            "5\n",
            "4\n",
            "3\n",
            "2\n",
            "1\n"
          ]
        }
      ]
    },
    {
      "cell_type": "code",
      "source": [],
      "metadata": {
        "id": "hyLpBm46oypY"
      },
      "execution_count": null,
      "outputs": []
    }
  ]
}