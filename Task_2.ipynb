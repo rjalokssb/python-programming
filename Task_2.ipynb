{
  "nbformat": 4,
  "nbformat_minor": 0,
  "metadata": {
    "colab": {
      "provenance": []
    },
    "kernelspec": {
      "name": "python3",
      "display_name": "Python 3"
    },
    "language_info": {
      "name": "python"
    }
  },
  "cells": [
    {
      "cell_type": "code",
      "source": [
        "import re\n",
        "\n",
        "def validate_password(password):\n",
        "    # Check if the password length is 10 characters\n",
        "    if len(password) != 10:\n",
        "        return False\n",
        "    \n",
        "    # Check if the password contains at least two uppercase letters and at least two lowercase letters\n",
        "    if not re.search(r'[A-Z].*[A-Z]', password) or not re.search(r'[a-z].*[a-z]', password):\n",
        "        return False\n",
        "    \n",
        "    # Check if the password contains at least a number and three special characters\n",
        "    if not re.search(r'\\d', password) or not re.search(r'[^A-Za-z0-9].*[^A-Za-z0-9].*[^A-Za-z0-9].*', password):\n",
        "        return False\n",
        "    \n",
        "    # If all rules are satisfied, return True\n",
        "    return True"
      ],
      "metadata": {
        "id": "0GsNoFobsPFj"
      },
      "execution_count": 6,
      "outputs": []
    },
    {
      "cell_type": "code",
      "source": [
        "validate_password('aaalllsw@A')"
      ],
      "metadata": {
        "colab": {
          "base_uri": "https://localhost:8080/"
        },
        "id": "lwwgGW1usj3G",
        "outputId": "417bb6b5-6aea-4f8b-f873-68349fbddc4b"
      },
      "execution_count": 7,
      "outputs": [
        {
          "output_type": "execute_result",
          "data": {
            "text/plain": [
              "False"
            ]
          },
          "metadata": {},
          "execution_count": 7
        }
      ]
    },
    {
      "cell_type": "code",
      "source": [
        "words = [\"apple\", \"banana\", \"cherry\", \"date\"]\n",
        "start_with_c = list(filter(lambda word: word.startswith('c'), words))\n",
        "print(start_with_c)\n",
        "# Output: ['cherry']"
      ],
      "metadata": {
        "colab": {
          "base_uri": "https://localhost:8080/"
        },
        "id": "Rz8WLiUCtMxD",
        "outputId": "5841350d-2a8e-4079-a241-522bd93f28bd"
      },
      "execution_count": 12,
      "outputs": [
        {
          "output_type": "stream",
          "name": "stdout",
          "text": [
            "['cherry']\n"
          ]
        }
      ]
    },
    {
      "cell_type": "code",
      "source": [
        "words = [\"apple\", \"banana\", \"cherry\", \"date\"]\n",
        "start_with_c = [word for word in words if word.startswith('c')]\n",
        "print(start_with_c)\n",
        "# Output: ['cherry'"
      ],
      "metadata": {
        "colab": {
          "base_uri": "https://localhost:8080/"
        },
        "id": "LxsQZabqtMuU",
        "outputId": "52ef6cf5-d032-44de-f346-bc8deb308ba6"
      },
      "execution_count": 13,
      "outputs": [
        {
          "output_type": "stream",
          "name": "stdout",
          "text": [
            "['cherry']\n"
          ]
        }
      ]
    },
    {
      "cell_type": "code",
      "source": [
        "strings = [\"123\", \"abc\", \"5.6\"]\n",
        "numeric_strings = list(filter(lambda s: s.isnumeric(), strings))\n",
        "print(numeric_strings)\n",
        "# Output: ['123']"
      ],
      "metadata": {
        "colab": {
          "base_uri": "https://localhost:8080/"
        },
        "id": "fBCkNEJ-tMrL",
        "outputId": "48bf682e-2195-4966-ea23-2b9956624830"
      },
      "execution_count": 14,
      "outputs": [
        {
          "output_type": "stream",
          "name": "stdout",
          "text": [
            "['123']\n"
          ]
        }
      ]
    },
    {
      "cell_type": "code",
      "source": [
        "strings = [\"123\", \"abc\", \"5.6\"]\n",
        "numeric_strings = [s for s in strings if s.isnumeric()]\n",
        "print(numeric_strings)\n",
        "# Output: ['123']"
      ],
      "metadata": {
        "colab": {
          "base_uri": "https://localhost:8080/"
        },
        "id": "xJm4fTJxtMoT",
        "outputId": "fd943211-9101-4942-bda4-2304f17806ab"
      },
      "execution_count": 15,
      "outputs": [
        {
          "output_type": "stream",
          "name": "stdout",
          "text": [
            "['123']\n"
          ]
        }
      ]
    },
    {
      "cell_type": "code",
      "source": [
        "fruits = [(\"mango\", 99), (\"orange\", 80), (\"grapes\", 1000)]\n",
        "sorted_fruits = sorted(fruits, key=lambda x: x[1])\n",
        "print(sorted_fruits)\n",
        "# Output: [('orange', 80), ('mango', 99), ('grapes', 1000)]"
      ],
      "metadata": {
        "colab": {
          "base_uri": "https://localhost:8080/"
        },
        "id": "Pp048qAptMlT",
        "outputId": "94059d7e-accd-4670-c7c1-a09b461d6e79"
      },
      "execution_count": 16,
      "outputs": [
        {
          "output_type": "stream",
          "name": "stdout",
          "text": [
            "[('orange', 80), ('mango', 99), ('grapes', 1000)]\n"
          ]
        }
      ]
    },
    {
      "cell_type": "code",
      "source": [
        "numbers = range(1, 11)\n",
        "squares = list(map(lambda x: x**2, numbers))\n",
        "print(squares)\n",
        "# Output: [1, 4, 9, 16, 25, 36, 49, 64, 81, 100]"
      ],
      "metadata": {
        "colab": {
          "base_uri": "https://localhost:8080/"
        },
        "id": "1bfIvpDOtMiT",
        "outputId": "3eded4a8-3f97-43ff-be03-51c92abf6847"
      },
      "execution_count": 17,
      "outputs": [
        {
          "output_type": "stream",
          "name": "stdout",
          "text": [
            "[1, 4, 9, 16, 25, 36, 49, 64, 81, 100]\n"
          ]
        }
      ]
    },
    {
      "cell_type": "code",
      "source": [
        "numbers = range(1, 11)\n",
        "squares = [x**2 for x in numbers]\n",
        "print(squares)\n",
        "# Output: [1, 4, 9, 16, 25, 36, 49, 64, 81, 100]"
      ],
      "metadata": {
        "colab": {
          "base_uri": "https://localhost:8080/"
        },
        "id": "WbAtjuTEtMfD",
        "outputId": "9ad56573-334e-4ef1-9eb1-3336efef7ac7"
      },
      "execution_count": 18,
      "outputs": [
        {
          "output_type": "stream",
          "name": "stdout",
          "text": [
            "[1, 4, 9, 16, 25, 36, 49, 64, 81, 100]\n"
          ]
        }
      ]
    },
    {
      "cell_type": "code",
      "source": [
        "import math\n",
        "\n",
        "numbers = range(1, 11)\n",
        "cube_roots = list(map(lambda x: math.pow(x, 1/3), numbers))\n",
        "print(cube_roots)\n",
        "# Output: [1.0, 1.2599210498948732, 1.4422495703074083, 1.5874010519681994, 1.7099759466766968, 1.8171205928321397, 1.912931182772389, 2.0, 2.080083823051904, 2.154434690031884]"
      ],
      "metadata": {
        "colab": {
          "base_uri": "https://localhost:8080/"
        },
        "id": "wgevYlCxtgkH",
        "outputId": "efba7143-3d66-4c8f-d68e-cbdcadb0642b"
      },
      "execution_count": 19,
      "outputs": [
        {
          "output_type": "stream",
          "name": "stdout",
          "text": [
            "[1.0, 1.2599210498948732, 1.4422495703074083, 1.5874010519681994, 1.7099759466766968, 1.8171205928321397, 1.912931182772389, 2.0, 2.080083823051904, 2.154434690031884]\n"
          ]
        }
      ]
    },
    {
      "cell_type": "code",
      "source": [
        "import math\n",
        "\n",
        "numbers = range(1, 11)\n",
        "cube_roots = [math.pow(x, 1/3) for x in numbers]\n",
        "print(cube_roots)"
      ],
      "metadata": {
        "colab": {
          "base_uri": "https://localhost:8080/"
        },
        "id": "ZV-Za2Qktkjn",
        "outputId": "3a1659ae-3e9a-46fb-98d3-3bb93d3dbb05"
      },
      "execution_count": 20,
      "outputs": [
        {
          "output_type": "stream",
          "name": "stdout",
          "text": [
            "[1.0, 1.2599210498948732, 1.4422495703074083, 1.5874010519681994, 1.7099759466766968, 1.8171205928321397, 1.912931182772389, 2.0, 2.080083823051904, 2.154434690031884]\n"
          ]
        }
      ]
    },
    {
      "cell_type": "code",
      "source": [],
      "metadata": {
        "id": "vfiUFpGCtne2"
      },
      "execution_count": null,
      "outputs": []
    },
    {
      "cell_type": "code",
      "source": [],
      "metadata": {
        "id": "TycqEJlutoLV"
      },
      "execution_count": null,
      "outputs": []
    },
    {
      "cell_type": "code",
      "source": [],
      "metadata": {
        "id": "IMV87r8-toIH"
      },
      "execution_count": null,
      "outputs": []
    }
  ]
}