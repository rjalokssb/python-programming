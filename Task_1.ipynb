{
  "nbformat": 4,
  "nbformat_minor": 0,
  "metadata": {
    "colab": {
      "provenance": []
    },
    "kernelspec": {
      "name": "python3",
      "display_name": "Python 3"
    },
    "language_info": {
      "name": "python"
    }
  },
  "cells": [
    {
      "cell_type": "markdown",
      "source": [
        "Q1. Create a function which will take a list as an argument and return the product of all the numbers\n",
        "\n",
        "after creating a flat list.\n",
        "\n",
        "Use the below-given list as an argument for your function.\n",
        "\n",
        "list1 = [1,2,3,4, [44,55,66, True], False, (34,56,78,89,34), {1,2,3,3,2,1}, {1:34, \"key2\": [55, 67, 78, 89], 4: (45,\n",
        "22, 61, 34)}, [56, 'data science'], 'Machine Learning']\n",
        "\n",
        "Note: you must extract numeric keys and values of the dictionary also."
      ],
      "metadata": {
        "id": "9rXRiHuKpdWA"
      }
    },
    {
      "cell_type": "code",
      "source": [
        "def product_of_numbers(lst):\n",
        "    # flatten the list to extract all numbers\n",
        "    flat_list = []\n",
        "    for item in lst:\n",
        "        if isinstance(item, list):\n",
        "            flat_list.extend(item)\n",
        "        elif isinstance(item, tuple):\n",
        "            flat_list.extend(list(item))\n",
        "        elif isinstance(item, set):\n",
        "            flat_list.extend(list(item))\n",
        "        elif isinstance(item, dict):\n",
        "            flat_list.extend([key for key in item if isinstance(key, (int, float))])\n",
        "            flat_list.extend([val for val in item.values() if isinstance(val, (int, float))])\n",
        "        elif isinstance(item, (int, float)):\n",
        "            flat_list.append(item)\n",
        "    \n",
        "    # calculate the product of all numbers in the flattened list\n",
        "    product = 1\n",
        "    for num in flat_list:\n",
        "        product *= num\n",
        "    \n",
        "    return product"
      ],
      "metadata": {
        "id": "OXPk_dgCqZTo"
      },
      "execution_count": 3,
      "outputs": []
    },
    {
      "cell_type": "code",
      "execution_count": 5,
      "metadata": {
        "colab": {
          "base_uri": "https://localhost:8080/"
        },
        "id": "KfZBfs3bpcti",
        "outputId": "78537842-94bf-420b-de8c-f41ccc113feb"
      },
      "outputs": [
        {
          "output_type": "stream",
          "name": "stdout",
          "text": [
            "\n"
          ]
        }
      ],
      "source": [
        "list1 = [1,2,3,4, [44,55,66, True], False, (34,56,78,89,34), {1,2,3,3,2,1}, {1:34, \"key2\": [55, 67, 78, 89], 4: (45, 22, 61, 34)}, [56, 'data science'], 'Machine Learning']\n",
        "\n",
        "result = product_of_numbers(list1)\n",
        "\n",
        "print(result)"
      ]
    },
    {
      "cell_type": "markdown",
      "source": [
        "Q2. Write a python program for encrypting a message sent to you by your friend. The logic of encryption\n",
        "\n",
        "should be such that, for a the output should be z. For b, the output should be y. For c, the output should\n",
        "\n",
        "be x respectively. Also, the whitespace should be replaced with a dollar sign. Keep the punctuation\n",
        "marks unchanged.\n",
        "\n",
        "Input Sentence: I want to become a Data Scientist.\n",
        "\n",
        "Encrypt the above input sentence using the program you just created.\n",
        "\n",
        "Note: Convert the given input sentence into lowercase before encrypting.\n",
        " The final output should be\n",
        "lowercase."
      ],
      "metadata": {
        "id": "bCXpDR7_r3Nj"
      }
    },
    {
      "cell_type": "code",
      "source": [
        "def encrypt_message(message):\n",
        "    result = \"\"\n",
        "    for letter in message.lower():\n",
        "        if letter == \" \":\n",
        "            result += \"$\"\n",
        "        elif letter.isalpha():\n",
        "            result += chr(ord('a') + (ord('z') - ord(letter)))\n",
        "        else:\n",
        "            result += letter\n",
        "    return result.lower()\n",
        "\n",
        "# Test the function\n",
        "input_sentence = \"I want to become a Data Scientist.\"\n",
        "encrypted_sentence = encrypt_message(input_sentence)\n",
        "print(\"Input Sentence: \", input_sentence)\n",
        "print(\"Encrypted Sentence: \", encrypted_sentence)"
      ],
      "metadata": {
        "colab": {
          "base_uri": "https://localhost:8080/"
        },
        "id": "P8adCP1IrLSz",
        "outputId": "f511bc82-31d7-4ac3-9cdd-0e6e59c86ea5"
      },
      "execution_count": 6,
      "outputs": [
        {
          "output_type": "stream",
          "name": "stdout",
          "text": [
            "Input Sentence:  I want to become a Data Scientist.\n",
            "Encrypted Sentence:  r$dzmg$gl$yvxlnv$z$wzgz$hxrvmgrhg.\n"
          ]
        }
      ]
    },
    {
      "cell_type": "code",
      "source": [
        "input_sentence = \"I want to become a Data Scientist.\"\n",
        "encrypt_msg(input_sentence)"
      ],
      "metadata": {
        "colab": {
          "base_uri": "https://localhost:8080/",
          "height": 35
        },
        "id": "-hT2f1J3tcuw",
        "outputId": "a919f4ca-24ac-4ca2-958d-9c6fc8a044c3"
      },
      "execution_count": 9,
      "outputs": [
        {
          "output_type": "execute_result",
          "data": {
            "text/plain": [
              "'r$dzmg$gl$yvxlnv$z$wzgz$hxrvmgrhg.'"
            ],
            "application/vnd.google.colaboratory.intrinsic+json": {
              "type": "string"
            }
          },
          "metadata": {},
          "execution_count": 9
        }
      ]
    }
  ]
}