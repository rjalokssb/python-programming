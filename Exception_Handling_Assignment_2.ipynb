{
  "nbformat": 4,
  "nbformat_minor": 0,
  "metadata": {
    "colab": {
      "provenance": []
    },
    "kernelspec": {
      "name": "python3",
      "display_name": "Python 3"
    },
    "language_info": {
      "name": "python"
    }
  },
  "cells": [
    {
      "cell_type": "markdown",
      "source": [
        "Q1. Explain why we have to use the Exception class while creating a Custom Exception.\n",
        "Note: Here Exception class refers to the base class for all the exceptions."
      ],
      "metadata": {
        "id": "LPACE7AhcFyF"
      }
    },
    {
      "cell_type": "code",
      "execution_count": null,
      "metadata": {
        "id": "OZg-lFdwbAGF"
      },
      "outputs": [],
      "source": [
        "# In Python, the Exception class is the base class for all built-in exceptions. When creating a custom exception, it's recommended to inherit from this base class because it provides a standard interface for handling and raising exceptions.\n",
        "# By inheriting from the Exception class, your custom exception class will have access to all the methods and attributes of the base class, such as __str__, args, and with_traceback, which can be useful for customizing the behavior of your exception."
      ]
    },
    {
      "cell_type": "markdown",
      "source": [
        "Q2. Write a python program to print Python Exception Hierarchy."
      ],
      "metadata": {
        "id": "fY3h1VkicLLx"
      }
    },
    {
      "cell_type": "code",
      "source": [
        "def print_exception_hierarchy(exception_class, indent=0):\n",
        "    print(' ' * indent + exception_class.__name__)\n",
        "    for subclass in exception_class.__subclasses__():\n",
        "        print_exception_hierarchy(subclass, indent+4)\n",
        "\n",
        "print_exception_hierarchy(BaseException)"
      ],
      "metadata": {
        "colab": {
          "base_uri": "https://localhost:8080/"
        },
        "id": "l5mnGpSgcdi7",
        "outputId": "2d104fbf-76cc-42b1-a110-fa71bba77664"
      },
      "execution_count": 1,
      "outputs": [
        {
          "output_type": "stream",
          "name": "stdout",
          "text": [
            "BaseException\n",
            "    Exception\n",
            "        TypeError\n",
            "            MultipartConversionError\n",
            "            FloatOperation\n",
            "            UFuncTypeError\n",
            "                UFuncTypeError\n",
            "                UFuncTypeError\n",
            "                UFuncTypeError\n",
            "                    UFuncTypeError\n",
            "                    UFuncTypeError\n",
            "            ConversionError\n",
            "        StopAsyncIteration\n",
            "        StopIteration\n",
            "        ImportError\n",
            "            ModuleNotFoundError\n",
            "            ZipImportError\n",
            "        OSError\n",
            "            ConnectionError\n",
            "                BrokenPipeError\n",
            "                ConnectionAbortedError\n",
            "                ConnectionRefusedError\n",
            "                ConnectionResetError\n",
            "                    RemoteDisconnected\n",
            "            BlockingIOError\n",
            "            ChildProcessError\n",
            "            FileExistsError\n",
            "            FileNotFoundError\n",
            "                ExecutableNotFoundError\n",
            "            IsADirectoryError\n",
            "            NotADirectoryError\n",
            "            InterruptedError\n",
            "                InterruptedSystemCall\n",
            "            PermissionError\n",
            "            ProcessLookupError\n",
            "            TimeoutError\n",
            "            UnsupportedOperation\n",
            "            ItimerError\n",
            "            Error\n",
            "                SameFileError\n",
            "            SpecialFileError\n",
            "            ExecError\n",
            "            ReadError\n",
            "            herror\n",
            "            gaierror\n",
            "            timeout\n",
            "            SSLError\n",
            "                SSLCertVerificationError\n",
            "                SSLZeroReturnError\n",
            "                SSLWantReadError\n",
            "                SSLWantWriteError\n",
            "                SSLSyscallError\n",
            "                SSLEOFError\n",
            "            URLError\n",
            "                HTTPError\n",
            "                ContentTooShortError\n",
            "            BadGzipFile\n",
            "            ProxyError\n",
            "                GeneralProxyError\n",
            "                ProxyConnectionError\n",
            "                SOCKS5AuthError\n",
            "                SOCKS5Error\n",
            "                SOCKS4Error\n",
            "                HTTPError\n",
            "            UnidentifiedImageError\n",
            "        EOFError\n",
            "            IncompleteReadError\n",
            "        RuntimeError\n",
            "            RecursionError\n",
            "            NotImplementedError\n",
            "                StdinNotImplementedError\n",
            "                ZMQVersionError\n",
            "            _DeadlockError\n",
            "            BrokenBarrierError\n",
            "            BrokenExecutor\n",
            "                BrokenThreadPool\n",
            "            SendfileNotAvailableError\n",
            "            TooHardError\n",
            "            ExtractionError\n",
            "            VariableError\n",
            "        NameError\n",
            "            UnboundLocalError\n",
            "        AttributeError\n",
            "            FrozenInstanceError\n",
            "        SyntaxError\n",
            "            IndentationError\n",
            "                TabError\n",
            "            ParseError\n",
            "        LookupError\n",
            "            IndexError\n",
            "                AxisError\n",
            "                OutOfBounds\n",
            "            KeyError\n",
            "                UnknownBackend\n",
            "                NoSuchKernel\n",
            "            CodecRegistryError\n",
            "        ValueError\n",
            "            UnicodeError\n",
            "                UnicodeEncodeError\n",
            "                UnicodeDecodeError\n",
            "                UnicodeTranslateError\n",
            "            UnsupportedOperation\n",
            "            JSONDecodeError\n",
            "            Error\n",
            "            ClassNotFound\n",
            "            SSLCertVerificationError\n",
            "            ClipboardEmpty\n",
            "            MessageDefect\n",
            "                NoBoundaryInMultipartDefect\n",
            "                StartBoundaryNotFoundDefect\n",
            "                CloseBoundaryNotFoundDefect\n",
            "                FirstHeaderLineIsContinuationDefect\n",
            "                MisplacedEnvelopeHeaderDefect\n",
            "                MissingHeaderBodySeparatorDefect\n",
            "                MultipartInvariantViolationDefect\n",
            "                InvalidMultipartContentTransferEncodingDefect\n",
            "                UndecodableBytesDefect\n",
            "                InvalidBase64PaddingDefect\n",
            "                InvalidBase64CharactersDefect\n",
            "                InvalidBase64LengthDefect\n",
            "                HeaderDefect\n",
            "                    InvalidHeaderDefect\n",
            "                    HeaderMissingRequiredValue\n",
            "                    NonPrintableDefect\n",
            "                    ObsoleteHeaderDefect\n",
            "                    NonASCIILocalPartDefect\n",
            "            IllegalMonthError\n",
            "            IllegalWeekdayError\n",
            "            MacroToEdit\n",
            "            ParserError\n",
            "            DisabledFunctionError\n",
            "            AxisError\n",
            "            InvalidVersion\n",
            "            DefusedXmlException\n",
            "                DTDForbidden\n",
            "                EntitiesForbidden\n",
            "                ExternalReferenceForbidden\n",
            "                NotSupportedError\n",
            "            NonIntersectingPathException\n",
            "            InvalidFileException\n",
            "            UnequalIterablesError\n",
            "            InvalidVersion\n",
            "            ELFInvalid\n",
            "            InvalidWheelFilename\n",
            "            InvalidSdistFilename\n",
            "            InvalidSpecifier\n",
            "            InvalidMarker\n",
            "            UndefinedComparison\n",
            "            UndefinedEnvironmentName\n",
            "            InvalidRequirement\n",
            "                RequirementParseError\n",
            "        AssertionError\n",
            "        ArithmeticError\n",
            "            FloatingPointError\n",
            "            OverflowError\n",
            "            ZeroDivisionError\n",
            "                DivisionByZero\n",
            "                DivisionUndefined\n",
            "            DecimalException\n",
            "                Clamped\n",
            "                Rounded\n",
            "                    Underflow\n",
            "                    Overflow\n",
            "                Inexact\n",
            "                    Underflow\n",
            "                    Overflow\n",
            "                Subnormal\n",
            "                    Underflow\n",
            "                DivisionByZero\n",
            "                FloatOperation\n",
            "                InvalidOperation\n",
            "                    ConversionSyntax\n",
            "                    DivisionImpossible\n",
            "                    DivisionUndefined\n",
            "                    InvalidContext\n",
            "        SystemError\n",
            "            CodecRegistryError\n",
            "        ReferenceError\n",
            "        MemoryError\n",
            "            MemoryError\n",
            "        BufferError\n",
            "        Warning\n",
            "            UserWarning\n",
            "                GetPassWarning\n",
            "                FormatterWarning\n",
            "                VisibleDeprecationWarning\n",
            "                RankWarning\n",
            "                ConversionWarning\n",
            "                RankWarning\n",
            "            DeprecationWarning\n",
            "                ProvisionalWarning\n",
            "                ModuleDeprecationWarning\n",
            "                MatplotlibDeprecationWarning\n",
            "            PendingDeprecationWarning\n",
            "            SyntaxWarning\n",
            "            RuntimeWarning\n",
            "                ProactorSelectorThreadWarning\n",
            "                UnknownTimezoneWarning\n",
            "                ComplexWarning\n",
            "                DecompressionBombWarning\n",
            "                PEP440Warning\n",
            "            FutureWarning\n",
            "                ProvisionalCompleterWarning\n",
            "                MaskedArrayFutureWarning\n",
            "            ImportWarning\n",
            "            UnicodeWarning\n",
            "            BytesWarning\n",
            "            ResourceWarning\n",
            "            DeprecatedTzFormatWarning\n",
            "            MathTextWarning\n",
            "            PkgResourcesDeprecationWarning\n",
            "        _OptionError\n",
            "        error\n",
            "        Verbose\n",
            "        Error\n",
            "        _Error\n",
            "        SubprocessError\n",
            "            CalledProcessError\n",
            "            TimeoutExpired\n",
            "        Error\n",
            "        TokenError\n",
            "        StopTokenizing\n",
            "        error\n",
            "        LZMAError\n",
            "        RegistryError\n",
            "        _GiveupOnFastCopy\n",
            "        ClassFoundException\n",
            "        EndOfBlock\n",
            "        TraitError\n",
            "        _GiveupOnSendfile\n",
            "        error\n",
            "        PickleError\n",
            "            PicklingError\n",
            "            UnpicklingError\n",
            "        _Stop\n",
            "        Empty\n",
            "        Full\n",
            "        ArgumentError\n",
            "        ArgumentTypeError\n",
            "        ConfigError\n",
            "            ConfigLoaderError\n",
            "                ArgumentError\n",
            "            ConfigFileNotFound\n",
            "        ConfigurableError\n",
            "            MultipleInstanceError\n",
            "        ApplicationError\n",
            "        ErrorDuringImport\n",
            "        BdbQuit\n",
            "        Restart\n",
            "        ExceptionPexpect\n",
            "            EOF\n",
            "            TIMEOUT\n",
            "        error\n",
            "        PtyProcessError\n",
            "        FindCmdError\n",
            "        HomeDirError\n",
            "        ProfileDirError\n",
            "        IPythonCoreError\n",
            "            TryNext\n",
            "            UsageError\n",
            "            StdinNotImplementedError\n",
            "        InputRejected\n",
            "        GetoptError\n",
            "        Incomplete\n",
            "        OptionError\n",
            "        ErrorToken\n",
            "        PrefilterError\n",
            "        AliasError\n",
            "            InvalidAliasError\n",
            "        Error\n",
            "            InterfaceError\n",
            "            DatabaseError\n",
            "                InternalError\n",
            "                OperationalError\n",
            "                ProgrammingError\n",
            "                IntegrityError\n",
            "                DataError\n",
            "                NotSupportedError\n",
            "        Warning\n",
            "        Error\n",
            "            CancelledError\n",
            "            TimeoutError\n",
            "            InvalidStateError\n",
            "        TimeoutError\n",
            "        InvalidStateError\n",
            "        LimitOverrunError\n",
            "        QueueEmpty\n",
            "        QueueFull\n",
            "        SpaceInInput\n",
            "        DOMException\n",
            "            IndexSizeErr\n",
            "            DomstringSizeErr\n",
            "            HierarchyRequestErr\n",
            "            WrongDocumentErr\n",
            "            InvalidCharacterErr\n",
            "            NoDataAllowedErr\n",
            "            NoModificationAllowedErr\n",
            "            NotFoundErr\n",
            "            NotSupportedErr\n",
            "            InuseAttributeErr\n",
            "            InvalidStateErr\n",
            "            SyntaxErr\n",
            "            InvalidModificationErr\n",
            "            NamespaceErr\n",
            "            InvalidAccessErr\n",
            "            ValidationErr\n",
            "        ValidationError\n",
            "        EditReadOnlyBuffer\n",
            "        _Retry\n",
            "        InvalidLayoutError\n",
            "        HeightIsUnknownError\n",
            "        MessageError\n",
            "            MessageParseError\n",
            "                HeaderParseError\n",
            "                BoundaryError\n",
            "            MultipartConversionError\n",
            "            CharsetError\n",
            "        Error\n",
            "        HTTPException\n",
            "            NotConnected\n",
            "            InvalidURL\n",
            "            UnknownProtocol\n",
            "            UnknownTransferEncoding\n",
            "            UnimplementedFileMode\n",
            "            IncompleteRead\n",
            "            ImproperConnectionState\n",
            "                CannotSendRequest\n",
            "                CannotSendHeader\n",
            "                ResponseNotReady\n",
            "            BadStatusLine\n",
            "                RemoteDisconnected\n",
            "            LineTooLong\n",
            "        InteractivelyDefined\n",
            "        KillEmbedded\n",
            "        ArgumentError\n",
            "        ZMQBaseError\n",
            "            ZMQError\n",
            "                ContextTerminated\n",
            "                Again\n",
            "                InterruptedSystemCall\n",
            "            ZMQBindError\n",
            "            NotDone\n",
            "        NoIPAddresses\n",
            "        Error\n",
            "            NoSectionError\n",
            "            DuplicateSectionError\n",
            "            DuplicateOptionError\n",
            "            NoOptionError\n",
            "            InterpolationError\n",
            "                InterpolationMissingOptionError\n",
            "                InterpolationSyntaxError\n",
            "                InterpolationDepthError\n",
            "            ParsingError\n",
            "                MissingSectionHeaderError\n",
            "        InvalidPortNumber\n",
            "        DuplicateKernelError\n",
            "        error\n",
            "        ReturnValueIgnoredError\n",
            "        KeyReuseError\n",
            "        UnknownKeyError\n",
            "        LeakedCallbackError\n",
            "        BadYieldError\n",
            "        ReturnValueIgnoredError\n",
            "        Return\n",
            "        QueueEmpty\n",
            "        QueueFull\n",
            "        Error\n",
            "            AuthorizationError\n",
            "            RuntimeManagementError\n",
            "            MessageError\n",
            "        WidgetException\n",
            "        JsException\n",
            "        FormattedTracebackError\n",
            "        Error\n",
            "            NoSuchProcess\n",
            "                ZombieProcess\n",
            "            AccessDenied\n",
            "            TimeoutExpired\n",
            "        _Ipv6UnsupportedError\n",
            "        ParseBaseException\n",
            "            ParseException\n",
            "            ParseFatalException\n",
            "                ParseSyntaxException\n",
            "        RecursiveGrammarException\n",
            "        HttpLib2Error\n",
            "            HttpLib2ErrorWithResponse\n",
            "                RedirectMissingLocation\n",
            "                RedirectLimit\n",
            "                FailedToDecompressContent\n",
            "                UnimplementedDigestAuthOptionError\n",
            "                UnimplementedHmacDigestAuthOptionError\n",
            "            MalformedHeader\n",
            "            RelativeURIError\n",
            "            ServerNotFoundError\n",
            "            ProxiesUnavailableError\n",
            "        BadZipFile\n",
            "        LargeZipFile\n",
            "        LinAlgError\n",
            "        ConverterError\n",
            "            ConverterLockError\n",
            "        MAError\n",
            "            MaskError\n",
            "        ExpatError\n",
            "        DecompressionBombError\n",
            "        FFIError\n",
            "        CDefError\n",
            "        VerificationError\n",
            "        VerificationMissing\n",
            "        PkgConfigError\n",
            "        DuplicateConstraint\n",
            "        UnsatisfiableConstraint\n",
            "        UnknownConstraint\n",
            "        DuplicateEditVariable\n",
            "        UnknownEditVariable\n",
            "        BadRequiredStrength\n",
            "        NonGuiException\n",
            "        InvalidIndexError\n",
            "        TerminateTrajectory\n",
            "        TraversalError\n",
            "        NoFreePortFoundError\n",
            "        DebuggerInitializationError\n",
            "        Error\n",
            "            ProtocolError\n",
            "            ResponseError\n",
            "            Fault\n",
            "        ParserSyntaxError\n",
            "        ResolutionError\n",
            "            VersionConflict\n",
            "                ContextualVersionConflict\n",
            "            DistributionNotFound\n",
            "            UnknownExtra\n",
            "        _Error\n",
            "        UnableToResolveVariableException\n",
            "        InvalidTypeInArgsException\n",
            "    GeneratorExit\n",
            "    SystemExit\n",
            "    KeyboardInterrupt\n",
            "    CancelledError\n",
            "    AbortThread\n"
          ]
        }
      ]
    },
    {
      "cell_type": "markdown",
      "source": [
        "Q3. What errors are defined in the ArithmeticError class? Explain any two with an example."
      ],
      "metadata": {
        "id": "YRc_JYdXcjII"
      }
    },
    {
      "cell_type": "code",
      "source": [
        "# The ArithmeticError class is a subclass of the Exception class in Python, and it serves as the base class for a number of errors related to arithmetic operations. Some of the errors that are defined in the ArithmeticError class include ZeroDivisionError, OverflowError, and FloatingPointError.\n"
      ],
      "metadata": {
        "id": "7nVOmu82cj4J"
      },
      "execution_count": null,
      "outputs": []
    },
    {
      "cell_type": "code",
      "source": [
        "x = 10\n",
        "y = 0\n",
        "z = x / y"
      ],
      "metadata": {
        "colab": {
          "base_uri": "https://localhost:8080/",
          "height": 200
        },
        "id": "iEKxXjJOeLu-",
        "outputId": "e4223c89-7076-48f3-9e28-fddce2c3242f"
      },
      "execution_count": 2,
      "outputs": [
        {
          "output_type": "error",
          "ename": "ZeroDivisionError",
          "evalue": "ignored",
          "traceback": [
            "\u001b[0;31m---------------------------------------------------------------------------\u001b[0m",
            "\u001b[0;31mZeroDivisionError\u001b[0m                         Traceback (most recent call last)",
            "\u001b[0;32m<ipython-input-2-b475032ddfb1>\u001b[0m in \u001b[0;36m<cell line: 3>\u001b[0;34m()\u001b[0m\n\u001b[1;32m      1\u001b[0m \u001b[0mx\u001b[0m \u001b[0;34m=\u001b[0m \u001b[0;36m10\u001b[0m\u001b[0;34m\u001b[0m\u001b[0;34m\u001b[0m\u001b[0m\n\u001b[1;32m      2\u001b[0m \u001b[0my\u001b[0m \u001b[0;34m=\u001b[0m \u001b[0;36m0\u001b[0m\u001b[0;34m\u001b[0m\u001b[0;34m\u001b[0m\u001b[0m\n\u001b[0;32m----> 3\u001b[0;31m \u001b[0mz\u001b[0m \u001b[0;34m=\u001b[0m \u001b[0mx\u001b[0m \u001b[0;34m/\u001b[0m \u001b[0my\u001b[0m\u001b[0;34m\u001b[0m\u001b[0;34m\u001b[0m\u001b[0m\n\u001b[0m",
            "\u001b[0;31mZeroDivisionError\u001b[0m: division by zero"
          ]
        }
      ]
    },
    {
      "cell_type": "code",
      "source": [
        "x = 2 ** 1000\n",
        "x"
      ],
      "metadata": {
        "colab": {
          "base_uri": "https://localhost:8080/"
        },
        "id": "kNs7NE0beOPW",
        "outputId": "d7daaf0a-71b1-49ce-c21d-a4a72ba78aa9"
      },
      "execution_count": 4,
      "outputs": [
        {
          "output_type": "execute_result",
          "data": {
            "text/plain": [
              "10715086071862673209484250490600018105614048117055336074437503883703510511249361224931983788156958581275946729175531468251871452856923140435984577574698574803934567774824230985421074605062371141877954182153046474983581941267398767559165543946077062914571196477686542167660429831652624386837205668069376"
            ]
          },
          "metadata": {},
          "execution_count": 4
        }
      ]
    },
    {
      "cell_type": "markdown",
      "source": [
        "Q4. Why LookupError class is used? Explain with an example KeyError and IndexError."
      ],
      "metadata": {
        "id": "Z2wUlmr-cn4o"
      }
    },
    {
      "cell_type": "code",
      "source": [
        "# It is used to handle exceptions related to indexing or retrieving values from a sequence or mapping that do not exist."
      ],
      "metadata": {
        "id": "wB_Rc1hycvuh"
      },
      "execution_count": null,
      "outputs": []
    },
    {
      "cell_type": "code",
      "source": [
        "my_dict = {\"name\": \"John\", \"age\": 30}\n",
        "print(my_dict[\"city\"])"
      ],
      "metadata": {
        "colab": {
          "base_uri": "https://localhost:8080/",
          "height": 183
        },
        "id": "40gFqc5kfSq5",
        "outputId": "5110a88f-82b6-4892-db42-8abe18a621e4"
      },
      "execution_count": 5,
      "outputs": [
        {
          "output_type": "error",
          "ename": "KeyError",
          "evalue": "ignored",
          "traceback": [
            "\u001b[0;31m---------------------------------------------------------------------------\u001b[0m",
            "\u001b[0;31mKeyError\u001b[0m                                  Traceback (most recent call last)",
            "\u001b[0;32m<ipython-input-5-c6606e99f115>\u001b[0m in \u001b[0;36m<cell line: 2>\u001b[0;34m()\u001b[0m\n\u001b[1;32m      1\u001b[0m \u001b[0mmy_dict\u001b[0m \u001b[0;34m=\u001b[0m \u001b[0;34m{\u001b[0m\u001b[0;34m\"name\"\u001b[0m\u001b[0;34m:\u001b[0m \u001b[0;34m\"John\"\u001b[0m\u001b[0;34m,\u001b[0m \u001b[0;34m\"age\"\u001b[0m\u001b[0;34m:\u001b[0m \u001b[0;36m30\u001b[0m\u001b[0;34m}\u001b[0m\u001b[0;34m\u001b[0m\u001b[0;34m\u001b[0m\u001b[0m\n\u001b[0;32m----> 2\u001b[0;31m \u001b[0mprint\u001b[0m\u001b[0;34m(\u001b[0m\u001b[0mmy_dict\u001b[0m\u001b[0;34m[\u001b[0m\u001b[0;34m\"city\"\u001b[0m\u001b[0;34m]\u001b[0m\u001b[0;34m)\u001b[0m\u001b[0;34m\u001b[0m\u001b[0;34m\u001b[0m\u001b[0m\n\u001b[0m",
            "\u001b[0;31mKeyError\u001b[0m: 'city'"
          ]
        }
      ]
    },
    {
      "cell_type": "code",
      "source": [
        "my_list = [1, 2, 3]\n",
        "print(my_list[3])"
      ],
      "metadata": {
        "colab": {
          "base_uri": "https://localhost:8080/",
          "height": 183
        },
        "id": "mzADgaHGfV_f",
        "outputId": "4f886ec3-bb60-4aa8-8ec3-0362d498b82b"
      },
      "execution_count": 6,
      "outputs": [
        {
          "output_type": "error",
          "ename": "IndexError",
          "evalue": "ignored",
          "traceback": [
            "\u001b[0;31m---------------------------------------------------------------------------\u001b[0m",
            "\u001b[0;31mIndexError\u001b[0m                                Traceback (most recent call last)",
            "\u001b[0;32m<ipython-input-6-d54d0dfa12f9>\u001b[0m in \u001b[0;36m<cell line: 2>\u001b[0;34m()\u001b[0m\n\u001b[1;32m      1\u001b[0m \u001b[0mmy_list\u001b[0m \u001b[0;34m=\u001b[0m \u001b[0;34m[\u001b[0m\u001b[0;36m1\u001b[0m\u001b[0;34m,\u001b[0m \u001b[0;36m2\u001b[0m\u001b[0;34m,\u001b[0m \u001b[0;36m3\u001b[0m\u001b[0;34m]\u001b[0m\u001b[0;34m\u001b[0m\u001b[0;34m\u001b[0m\u001b[0m\n\u001b[0;32m----> 2\u001b[0;31m \u001b[0mprint\u001b[0m\u001b[0;34m(\u001b[0m\u001b[0mmy_list\u001b[0m\u001b[0;34m[\u001b[0m\u001b[0;36m3\u001b[0m\u001b[0;34m]\u001b[0m\u001b[0;34m)\u001b[0m\u001b[0;34m\u001b[0m\u001b[0;34m\u001b[0m\u001b[0m\n\u001b[0m",
            "\u001b[0;31mIndexError\u001b[0m: list index out of range"
          ]
        }
      ]
    },
    {
      "cell_type": "markdown",
      "source": [
        "Q5. Explain ImportError. What is ModuleNotFoundError?"
      ],
      "metadata": {
        "id": "zE0Ql3kscyvJ"
      }
    },
    {
      "cell_type": "code",
      "source": [
        "# ImportError is an exception that is raised when a module cannot be imported. "
      ],
      "metadata": {
        "id": "fmbpsJM8c8WT"
      },
      "execution_count": null,
      "outputs": []
    },
    {
      "cell_type": "code",
      "source": [
        "try:\n",
        "    import non_existent_module\n",
        "except ImportError:\n",
        "    print(\"Failed to import module: non_existent_module\")"
      ],
      "metadata": {
        "colab": {
          "base_uri": "https://localhost:8080/"
        },
        "id": "TWPsp5pAhBvs",
        "outputId": "6e8fc906-84c8-4b59-dc7a-00bce991d95b"
      },
      "execution_count": 7,
      "outputs": [
        {
          "output_type": "stream",
          "name": "stdout",
          "text": [
            "Failed to import module: non_existent_module\n"
          ]
        }
      ]
    },
    {
      "cell_type": "code",
      "source": [
        "try:\n",
        "    import my_module\n",
        "except ModuleNotFoundError:\n",
        "    print(\"Failed to import module: my_module\")"
      ],
      "metadata": {
        "colab": {
          "base_uri": "https://localhost:8080/"
        },
        "id": "2YaTeF7uhD-t",
        "outputId": "8dce53ab-57de-4bd5-d99c-9d4531c78e30"
      },
      "execution_count": 8,
      "outputs": [
        {
          "output_type": "stream",
          "name": "stdout",
          "text": [
            "Failed to import module: my_module\n"
          ]
        }
      ]
    },
    {
      "cell_type": "markdown",
      "source": [
        "Q6. List down some best practices for exception handling in python."
      ],
      "metadata": {
        "id": "ScAUBFtDc86L"
      }
    },
    {
      "cell_type": "code",
      "source": [
        "# Only use try/except blocks for errors that are expected to occur, and don't use them for normal program flow.\n",
        "# Use the finally block for cleanup\n",
        "# Use Python's built-in logging module to record exceptions and other error messages, as it makes it easier to debug and troubleshoot issues."
      ],
      "metadata": {
        "id": "uE_0vTrWc_OD"
      },
      "execution_count": null,
      "outputs": []
    }
  ]
}