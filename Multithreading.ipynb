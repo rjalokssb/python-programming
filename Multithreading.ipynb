{
  "nbformat": 4,
  "nbformat_minor": 0,
  "metadata": {
    "colab": {
      "provenance": []
    },
    "kernelspec": {
      "name": "python3",
      "display_name": "Python 3"
    },
    "language_info": {
      "name": "python"
    }
  },
  "cells": [
    {
      "cell_type": "markdown",
      "source": [
        "What is multithreading in python? hy is it used? Name the module used to handle threads in python"
      ],
      "metadata": {
        "id": "mv9O-tu2pqNP"
      }
    },
    {
      "cell_type": "code",
      "execution_count": null,
      "metadata": {
        "id": "g_imVx8Rpoev"
      },
      "outputs": [],
      "source": [
        "# Multithreading in Python is a mechanism for running multiple threads of execution within a single process.\n",
        "# threading"
      ]
    },
    {
      "cell_type": "markdown",
      "source": [
        "why threading module used? rite the use of the following functions\n",
        "\n",
        "( activeCount\n",
        "\n",
        " currentThread\n",
        " \n",
        " enumerate)"
      ],
      "metadata": {
        "id": "NbVaDDzOqHUP"
      }
    },
    {
      "cell_type": "code",
      "source": [
        "# The threading module in Python is used for creating and managing threads in a program\n"
      ],
      "metadata": {
        "id": "wUgjtA4cqTwR"
      },
      "execution_count": null,
      "outputs": []
    },
    {
      "cell_type": "code",
      "source": [
        "# activeCount(): This function is used to get the number of currently active threads in the program. "
      ],
      "metadata": {
        "id": "Pd6XcV1FqgVV"
      },
      "execution_count": null,
      "outputs": []
    },
    {
      "cell_type": "code",
      "source": [
        "# currentThread(): This function is used to get a reference to the currently executing thread object."
      ],
      "metadata": {
        "id": "xecxxGmjqlkt"
      },
      "execution_count": null,
      "outputs": []
    },
    {
      "cell_type": "code",
      "source": [
        "# enumerate(): This function is used to get a list of all currently active threads in the program"
      ],
      "metadata": {
        "id": "NGGlbgbtqpQu"
      },
      "execution_count": null,
      "outputs": []
    },
    {
      "cell_type": "markdown",
      "source": [
        "3. Explain the following functions\n",
        "\n",
        "( run\n",
        "\n",
        " start\n",
        "\n",
        " join\n",
        " \n",
        "' isAlive)"
      ],
      "metadata": {
        "id": "i4VoKhNeqr5G"
      }
    },
    {
      "cell_type": "code",
      "source": [
        "# run(): This method is called when a thread is started using the start() method. It represents the code that will be executed by the thread."
      ],
      "metadata": {
        "id": "tcUJ_ueFqu0m"
      },
      "execution_count": null,
      "outputs": []
    },
    {
      "cell_type": "code",
      "source": [
        "# start(): This method is used to start a thread."
      ],
      "metadata": {
        "id": "EURF6Q7Pq4DI"
      },
      "execution_count": null,
      "outputs": []
    },
    {
      "cell_type": "code",
      "source": [
        "# join(): This method is used to wait for a thread to finish before continuing with the rest of the program. "
      ],
      "metadata": {
        "id": "ALCF2i5hrACZ"
      },
      "execution_count": null,
      "outputs": []
    },
    {
      "cell_type": "code",
      "source": [
        "# isAlive(): This method is used to check whether a thread is still running or has finished. "
      ],
      "metadata": {
        "id": "b5UfBNAMrFFB"
      },
      "execution_count": null,
      "outputs": []
    },
    {
      "cell_type": "markdown",
      "source": [
        "4. rite a python program to create two threads. Thread one must print the list of squares and thread\n",
        "two must print the list of cubes"
      ],
      "metadata": {
        "id": "gTzxcB35rGKR"
      }
    },
    {
      "cell_type": "code",
      "source": [
        "import threading\n",
        "\n",
        "def print_squares(numbers):\n",
        "    print(\"List of Squares:\")\n",
        "    for num in numbers:\n",
        "        print(num ** 2)\n",
        "\n",
        "def print_cubes(numbers):\n",
        "    print(\"List of Cubes:\")\n",
        "    for num in numbers:\n",
        "        print(num ** 3)\n",
        "\n",
        "if __name__ == \"__main__\":\n",
        "    numbers = [1, 2, 3, 4, 5]\n",
        "    \n",
        "    t1 = threading.Thread(target=print_squares, args=(numbers,))\n",
        "    t2 = threading.Thread(target=print_cubes, args=(numbers,))\n",
        "    \n",
        "    t1.start()\n",
        "    t2.start()\n",
        "    \n",
        "    t1.join()\n",
        "    t2.join()\n",
        "    \n",
        "    print(\"Main thread exiting...\")"
      ],
      "metadata": {
        "colab": {
          "base_uri": "https://localhost:8080/"
        },
        "id": "yrQRmQ18rJfS",
        "outputId": "21de967c-be9a-4280-c053-d591e35cb524"
      },
      "execution_count": 1,
      "outputs": [
        {
          "output_type": "stream",
          "name": "stdout",
          "text": [
            "List of Squares:\n",
            "1\n",
            "4\n",
            "9\n",
            "16\n",
            "25\n",
            "List of Cubes:\n",
            "1\n",
            "8\n",
            "27\n",
            "64\n",
            "125\n",
            "Main thread exiting...\n"
          ]
        }
      ]
    },
    {
      "cell_type": "markdown",
      "source": [
        "5. State advantages and disadvantages of multithreading"
      ],
      "metadata": {
        "id": "q93fnvrIrnge"
      }
    },
    {
      "cell_type": "code",
      "source": [
        "# Faster Execution\n",
        "# Better Resource Utilization"
      ],
      "metadata": {
        "id": "x4BMIDIxrokW"
      },
      "execution_count": null,
      "outputs": []
    },
    {
      "cell_type": "code",
      "source": [
        "# Complexity\n",
        "# Synchronization Issues"
      ],
      "metadata": {
        "id": "HOopxbwPrws_"
      },
      "execution_count": null,
      "outputs": []
    },
    {
      "cell_type": "markdown",
      "source": [
        "6. Explain deadlocks and race conditions."
      ],
      "metadata": {
        "id": "hs-MZ50qr5K3"
      }
    },
    {
      "cell_type": "code",
      "source": [
        "# Deadlock is a situation where two or more threads are waiting for each other to release the resources they hold, which prevents any of the threads from making progress. \n",
        "# A race condition occurs when multiple threads access and modify shared resources concurrently, leading to unpredictable and unintended behavior. "
      ],
      "metadata": {
        "id": "D-JY-X7sr51h"
      },
      "execution_count": null,
      "outputs": []
    }
  ]
}