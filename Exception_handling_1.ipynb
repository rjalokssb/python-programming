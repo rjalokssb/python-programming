{
  "nbformat": 4,
  "nbformat_minor": 0,
  "metadata": {
    "colab": {
      "provenance": []
    },
    "kernelspec": {
      "name": "python3",
      "display_name": "Python 3"
    },
    "language_info": {
      "name": "python"
    }
  },
  "cells": [
    {
      "cell_type": "markdown",
      "source": [
        "Q1. Wh\n",
        "t is\n",
        "n Ex,eption in p\n",
        "\n",
        "thon? Write the differen,e etween Ex,eptions\n",
        "nd $\n",
        "nt\n",
        "x errors"
      ],
      "metadata": {
        "id": "urF0sXlFT8qw"
      }
    },
    {
      "cell_type": "code",
      "execution_count": null,
      "metadata": {
        "id": "YV_I1hHXT3cT"
      },
      "outputs": [],
      "source": [
        "# In Python, an exception is an event that occurs during the execution of a program that disrupts the normal flow of the program's instructions. \n",
        "# syntax error is a type of error that occurs when the Python interpreter is unable to parse the code due to invalid syntax\n",
        "# exception is an error that occurs during the execution of a program due to unexpected conditions or errors in the program's logic."
      ]
    },
    {
      "cell_type": "markdown",
      "source": [
        "Q2. Wh\n",
        "t h\n",
        "ppens when\n",
        "\n",
        "n ex,eption is not h\n",
        "\n",
        "ndled? Expl\n",
        "in with\n",
        "n ex\n",
        "mple"
      ],
      "metadata": {
        "id": "KiZ-PO8OU_ZA"
      }
    },
    {
      "cell_type": "code",
      "source": [
        "# When an exception is not handled in Python, the program will terminate abruptly with an error message indicating the type of exception that occurred and the line number where the exception occurred."
      ],
      "metadata": {
        "id": "16sNico4VBiI"
      },
      "execution_count": null,
      "outputs": []
    },
    {
      "cell_type": "code",
      "source": [
        "# try/except statement.\n",
        "\n",
        "try:\n",
        "    # code that might raise an exception\n",
        "    x = 1 / 0\n",
        "except ZeroDivisionError:\n",
        "    # code to handle the exception\n",
        "    print(\"Cannot divide by zero\")"
      ],
      "metadata": {
        "id": "WnnhIal5WSYr"
      },
      "execution_count": null,
      "outputs": []
    },
    {
      "cell_type": "code",
      "source": [
        "try:\n",
        "    # code that might raise an exception\n",
        "    x = 10 / 2\n",
        "except ZeroDivisionError:\n",
        "    # code to handle the exception\n",
        "    print(\"Cannot divide by zero\")\n",
        "else:\n",
        "    # code to execute if no exceptions are raised\n",
        "    print(\"The result is:\", x)"
      ],
      "metadata": {
        "colab": {
          "base_uri": "https://localhost:8080/"
        },
        "id": "bVfdAlilWak8",
        "outputId": "4498e236-162f-4964-a80a-d268376da94a"
      },
      "execution_count": 1,
      "outputs": [
        {
          "output_type": "stream",
          "name": "stdout",
          "text": [
            "The result is: 5.0\n"
          ]
        }
      ]
    },
    {
      "cell_type": "code",
      "source": [
        "try:\n",
        "    # code that might raise an exception\n",
        "    file = open(\"myfile.txt\", \"r\")\n",
        "    content = file.read()\n",
        "except FileNotFoundError:\n",
        "    # code to handle the file not found error\n",
        "    print(\"File not found\")\n",
        "else:\n",
        "    # code to execute if no exceptions are raised\n",
        "    print(content)\n",
        "finally:\n",
        "    # code to execute regardless of whether an exception was raised or not\n",
        "    file.close()"
      ],
      "metadata": {
        "colab": {
          "base_uri": "https://localhost:8080/",
          "height": 217
        },
        "id": "Vn_MW6H1XHii",
        "outputId": "cf2b3317-5f19-4caf-af6e-5a0b7b6903b5"
      },
      "execution_count": 2,
      "outputs": [
        {
          "output_type": "stream",
          "name": "stdout",
          "text": [
            "File not found\n"
          ]
        },
        {
          "output_type": "error",
          "ename": "NameError",
          "evalue": "ignored",
          "traceback": [
            "\u001b[0;31m---------------------------------------------------------------------------\u001b[0m",
            "\u001b[0;31mNameError\u001b[0m                                 Traceback (most recent call last)",
            "\u001b[0;32m<ipython-input-2-c0384128ae80>\u001b[0m in \u001b[0;36m<cell line: 1>\u001b[0;34m()\u001b[0m\n\u001b[1;32m     11\u001b[0m \u001b[0;32mfinally\u001b[0m\u001b[0;34m:\u001b[0m\u001b[0;34m\u001b[0m\u001b[0;34m\u001b[0m\u001b[0m\n\u001b[1;32m     12\u001b[0m     \u001b[0;31m# code to execute regardless of whether an exception was raised or not\u001b[0m\u001b[0;34m\u001b[0m\u001b[0;34m\u001b[0m\u001b[0m\n\u001b[0;32m---> 13\u001b[0;31m     \u001b[0mfile\u001b[0m\u001b[0;34m.\u001b[0m\u001b[0mclose\u001b[0m\u001b[0;34m(\u001b[0m\u001b[0;34m)\u001b[0m\u001b[0;34m\u001b[0m\u001b[0;34m\u001b[0m\u001b[0m\n\u001b[0m",
            "\u001b[0;31mNameError\u001b[0m: name 'file' is not defined"
          ]
        }
      ]
    },
    {
      "cell_type": "code",
      "source": [
        "x = -1\n",
        "\n",
        "if x < 0:\n",
        "    raise ValueError(\"The value of x must be positive\")"
      ],
      "metadata": {
        "id": "omXP3W-wX8B5"
      },
      "execution_count": null,
      "outputs": []
    },
    {
      "cell_type": "code",
      "source": [
        "# In Python, custom exceptions are user-defined exceptions that can be raised in situations where a built-in exception may not be appropriate, or when you need to customize the error message or behavior of the exception."
      ],
      "metadata": {
        "id": "bAi3QsSBY2CK"
      },
      "execution_count": null,
      "outputs": []
    },
    {
      "cell_type": "code",
      "source": [
        "class CustomException(Exception):\n",
        "    def __init__(self, message):\n",
        "        self.message = message\n",
        "    \n",
        "    def __str__(self):\n",
        "        return f\"{type(self).__name__}: {self.message}\""
      ],
      "metadata": {
        "id": "-E-lOHg-Y3To"
      },
      "execution_count": null,
      "outputs": []
    }
  ]
}