{
  "nbformat": 4,
  "nbformat_minor": 0,
  "metadata": {
    "colab": {
      "provenance": []
    },
    "kernelspec": {
      "name": "python3",
      "display_name": "Python 3"
    },
    "language_info": {
      "name": "python"
    }
  },
  "cells": [
    {
      "cell_type": "markdown",
      "source": [
        "Q1. Explain with an example each when to use a for loop and a while loop."
      ],
      "metadata": {
        "id": "756fOPssVA5O"
      }
    },
    {
      "cell_type": "code",
      "source": [
        "# for loop is useful when we want to execute a code block a fixed number of times.\n",
        "fruits = {'apple','banana','grapes'}\n",
        "for fruit in fruits:\n",
        "  print(fruit)"
      ],
      "metadata": {
        "colab": {
          "base_uri": "https://localhost:8080/"
        },
        "id": "jtCRFHK5VZAY",
        "outputId": "a9a5abf1-e029-41b6-dba0-30574efb0522"
      },
      "execution_count": 2,
      "outputs": [
        {
          "output_type": "stream",
          "name": "stdout",
          "text": [
            "grapes\n",
            "banana\n",
            "apple\n"
          ]
        }
      ]
    },
    {
      "cell_type": "code",
      "source": [
        "# while loop is useful when we want to execute a code as long as a condition is true\n",
        "numbers = [1,2,3,4,5]\n",
        "sum = 0\n",
        "i = 0\n",
        "while i < len(numbers):\n",
        "  sum = sum + numbers[i]\n",
        "  i = i + 1\n",
        "print(sum)"
      ],
      "metadata": {
        "colab": {
          "base_uri": "https://localhost:8080/"
        },
        "id": "DeTQR580WUOu",
        "outputId": "a5a72985-57e6-48fe-92e7-8cf2c4c014ed"
      },
      "execution_count": 3,
      "outputs": [
        {
          "output_type": "stream",
          "name": "stdout",
          "text": [
            "15\n"
          ]
        }
      ]
    },
    {
      "cell_type": "markdown",
      "source": [
        "Q2. Write a python program to print the sum and product of the first 10 natural numbers using for\n",
        "and while loop."
      ],
      "metadata": {
        "id": "MiOGhUr-VBqy"
      }
    },
    {
      "cell_type": "code",
      "source": [
        "sum = 0\n",
        "product = 1\n",
        "for i in range(1,11):\n",
        "  sum = sum + i\n",
        "  product = product * i\n",
        "print('sum of numbers', sum)\n",
        "print('product of numbers', product)"
      ],
      "metadata": {
        "colab": {
          "base_uri": "https://localhost:8080/"
        },
        "id": "43l_sPjAVZTF",
        "outputId": "b8d1e952-5762-4dfd-896b-6dfac8fb25f6"
      },
      "execution_count": 7,
      "outputs": [
        {
          "output_type": "stream",
          "name": "stdout",
          "text": [
            "sum of numbers 55\n",
            "product of numbers 3628800\n"
          ]
        }
      ]
    },
    {
      "cell_type": "code",
      "source": [
        "sum = 0\n",
        "product = 1\n",
        "i = 1\n",
        "while i <= 10:\n",
        "  sum = sum + i\n",
        "  product = product * i\n",
        "  i = i + 1\n",
        "print('sum of numbers', sum)\n",
        "print('product of numbers', product)"
      ],
      "metadata": {
        "colab": {
          "base_uri": "https://localhost:8080/"
        },
        "id": "XKA4Yc9TYFzp",
        "outputId": "67d1906e-da68-4686-ed29-1b622a2ef341"
      },
      "execution_count": 8,
      "outputs": [
        {
          "output_type": "stream",
          "name": "stdout",
          "text": [
            "sum of numbers 55\n",
            "product of numbers 3628800\n"
          ]
        }
      ]
    },
    {
      "cell_type": "markdown",
      "source": [
        "Q3. Create a python program to compute the electricity bill for a household.\n",
        "The per-unit charges in rupees are as follows: For the first 100 units, the user will be charged Rs. 4.5 per\n",
        "unit, for the next 100 units, the user will be charged Rs. 6 per unit, and for the next 100 units, the user will\n",
        "be charged Rs. 10 per unit, After 300 units and above the user will be charged Rs. 20 per unit.\n",
        "Your program must pass this test case: when the unit of electricity consumed by the user in a month is\n",
        "310, the total electricity bill should be 2250."
      ],
      "metadata": {
        "id": "_EYkEB64VDfN"
      }
    },
    {
      "cell_type": "code",
      "source": [
        "unit = int(input('enter the number of unit'))\n",
        "\n",
        "if unit <= 100:\n",
        "  bill = unit * 4.5\n",
        "elif unit <= 200:\n",
        "  bill = (100 * 4.5) + (unit - 100) * 6\n",
        "elif unit <= 300:\n",
        "  bill = (100 * 4.5) + (100 * 6) + (unit - 200) * 10\n",
        "else:\n",
        "  bill = (100 * 4.5) + (100 * 6) + (100*10) +(unit - 300) * 20\n",
        "\n",
        "print(\"Electricity bill for {} units: Rs. {}\".format(unit, bill))"
      ],
      "metadata": {
        "colab": {
          "base_uri": "https://localhost:8080/"
        },
        "id": "FiJH_vJNVZ8F",
        "outputId": "583cf3c1-5d28-4c6a-ec31-bd9f81b7beb9"
      },
      "execution_count": 9,
      "outputs": [
        {
          "output_type": "stream",
          "name": "stdout",
          "text": [
            "enter the number of unit310\n",
            "Electricity bill for 310 units: Rs. 2250.0\n"
          ]
        }
      ]
    },
    {
      "cell_type": "markdown",
      "source": [
        "Q4. Create a list of numbers from 1 to 100. Use for loop and while loop to calculate the cube of each\n",
        "number and if the cube of that number is divisible by 4 or 5 then append that number in a list and print\n",
        "that list."
      ],
      "metadata": {
        "id": "xQLk1j7MVO0l"
      }
    },
    {
      "cell_type": "code",
      "source": [
        "# Using for loop to create a list of numbers from 1 to 100\n",
        "numbers = list(range(1, 101))\n",
        "\n",
        "# Using for loop to calculate the cube of each number and append to new list if divisible by 4 or 5\n",
        "cube_list = []\n",
        "for num in numbers:\n",
        "    cube = num ** 3\n",
        "    if cube % 4 == 0 or cube % 5 == 0:\n",
        "        cube_list.append(num)\n",
        "\n",
        "# Print the list of numbers whose cube is divisible by 4 or 5\n",
        "print(\"Using for loop: \", cube_list)\n",
        "\n",
        "cube_list = []\n",
        "i = 1\n",
        "while i <=100:\n",
        "  cube = i**3\n",
        "  if cube % 4==0 or cube % 5 ==0:\n",
        "    cube_list.append(i)\n",
        "  i = i + 1\n",
        "print(\"Using while loop: \", cube_list)"
      ],
      "metadata": {
        "colab": {
          "base_uri": "https://localhost:8080/"
        },
        "id": "WLp1XuK8VaZQ",
        "outputId": "655c751e-df9a-4894-9be3-88084932bdf4"
      },
      "execution_count": 14,
      "outputs": [
        {
          "output_type": "stream",
          "name": "stdout",
          "text": [
            "Using for loop:  [2, 4, 5, 6, 8, 10, 12, 14, 15, 16, 18, 20, 22, 24, 25, 26, 28, 30, 32, 34, 35, 36, 38, 40, 42, 44, 45, 46, 48, 50, 52, 54, 55, 56, 58, 60, 62, 64, 65, 66, 68, 70, 72, 74, 75, 76, 78, 80, 82, 84, 85, 86, 88, 90, 92, 94, 95, 96, 98, 100]\n",
            "Using while loop:  [2, 4, 5, 6, 8, 10, 12, 14, 15, 16, 18, 20, 22, 24, 25, 26, 28, 30, 32, 34, 35, 36, 38, 40, 42, 44, 45, 46, 48, 50, 52, 54, 55, 56, 58, 60, 62, 64, 65, 66, 68, 70, 72, 74, 75, 76, 78, 80, 82, 84, 85, 86, 88, 90, 92, 94, 95, 96, 98, 100]\n"
          ]
        }
      ]
    },
    {
      "cell_type": "markdown",
      "source": [
        "Q5. Write a program to filter count vowels in the below-given string.\n",
        "string = \"I want to become a data scientist\""
      ],
      "metadata": {
        "id": "ygWllapdVWLg"
      }
    },
    {
      "cell_type": "code",
      "source": [
        "string = \"I want to become a data scientist\"\n",
        "vowels = ['a','e','i','o','u']\n",
        "count = 0\n",
        "for i in string:\n",
        "  if i.lower() in vowels:\n",
        "    count = count + 1\n",
        "print(count)"
      ],
      "metadata": {
        "colab": {
          "base_uri": "https://localhost:8080/"
        },
        "id": "QqyVUMI5Vaqd",
        "outputId": "a8f1ce9c-3fd1-4d3d-b92b-88bf8daadbdd"
      },
      "execution_count": 19,
      "outputs": [
        {
          "output_type": "stream",
          "name": "stdout",
          "text": [
            "12\n"
          ]
        }
      ]
    },
    {
      "cell_type": "code",
      "source": [],
      "metadata": {
        "id": "gj83yzt6dO8t"
      },
      "execution_count": null,
      "outputs": []
    }
  ]
}