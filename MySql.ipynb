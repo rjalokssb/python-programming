{
  "nbformat": 4,
  "nbformat_minor": 0,
  "metadata": {
    "colab": {
      "provenance": []
    },
    "kernelspec": {
      "name": "python3",
      "display_name": "Python 3"
    },
    "language_info": {
      "name": "python"
    }
  },
  "cells": [
    {
      "cell_type": "markdown",
      "source": [
        "Q1. What is a database? Differentiate between SQL and NoSQL databases."
      ],
      "metadata": {
        "id": "8Ltox_gfcZAD"
      }
    },
    {
      "cell_type": "code",
      "execution_count": null,
      "metadata": {
        "id": "p5J6AGpNcYRV"
      },
      "outputs": [],
      "source": [
        "# A database is a collection of data that is organized and stored in a way that allows for efficient retrieval and manipulation of that data.\n",
        "# SQL databases, also known as relational databases, are based on the Structured Query Language (SQL) and use a tabular format to store data. \n",
        "# NoSQL databases, on the other hand, are not based on SQL and do not use a tabular format to store data. Instead, NoSQL databases use a variety of data models, such as document-oriented, key-value, and graph databases, to store data."
      ]
    },
    {
      "cell_type": "markdown",
      "source": [
        "Q2. What is DDL? Explain why CREATE, DROP, ALTER, and TRUNCATE are used with an example."
      ],
      "metadata": {
        "id": "bV5uiy8HcbK6"
      }
    },
    {
      "cell_type": "code",
      "source": [
        "# DDL stands for Data Definition Language, which is a subset of SQL used to create and modify the structure of a database."
      ],
      "metadata": {
        "id": "0L5HHo0NcelT"
      },
      "execution_count": null,
      "outputs": []
    },
    {
      "cell_type": "code",
      "source": [
        "CREATE TABLE employee (\n",
        "    id INT PRIMARY KEY,\n",
        "    name VARCHAR(50),\n",
        "    salary DECIMAL(10,2)\n",
        ");"
      ],
      "metadata": {
        "id": "nMhClhD0dbSj"
      },
      "execution_count": null,
      "outputs": []
    },
    {
      "cell_type": "code",
      "source": [
        "DROP TABLE employee ;"
      ],
      "metadata": {
        "id": "7t1GwOead9-4"
      },
      "execution_count": null,
      "outputs": []
    },
    {
      "cell_type": "code",
      "source": [
        "ALTER TABLE employee ADD COLUMN department VARCHAR(50);"
      ],
      "metadata": {
        "id": "RqZW0piUeD4Z"
      },
      "execution_count": null,
      "outputs": []
    },
    {
      "cell_type": "code",
      "source": [
        "TRUNCATE TABLE employee"
      ],
      "metadata": {
        "id": "XLrQKqFVeRXS"
      },
      "execution_count": null,
      "outputs": []
    },
    {
      "cell_type": "markdown",
      "source": [
        "Q3. What is DML? Explain INSERT, UPDATE, and DELETE with an example."
      ],
      "metadata": {
        "id": "p7PqIY5Sce96"
      }
    },
    {
      "cell_type": "code",
      "source": [
        "# DML stands for Data Manipulation Language, which is a subset of SQL used to manipulate data within a database."
      ],
      "metadata": {
        "id": "agoAIQPGchKj"
      },
      "execution_count": null,
      "outputs": []
    },
    {
      "cell_type": "code",
      "source": [
        "INSERT INTO employee (id, name, salary) VALUES (101, 'ALOK', 50000);"
      ],
      "metadata": {
        "id": "AutBRIBgefRU"
      },
      "execution_count": null,
      "outputs": []
    },
    {
      "cell_type": "code",
      "source": [
        "UPDATE employee SET salary = 150000 WHERE id = 101;"
      ],
      "metadata": {
        "id": "OM1fsokGefMs"
      },
      "execution_count": null,
      "outputs": []
    },
    {
      "cell_type": "code",
      "source": [
        "DELETE FROM employee WHERE id = 101;"
      ],
      "metadata": {
        "id": "e8Wqh6Oqe4pw"
      },
      "execution_count": null,
      "outputs": []
    },
    {
      "cell_type": "markdown",
      "source": [
        "Q4. What is DQL? Explain SELECT with an example."
      ],
      "metadata": {
        "id": "mNeEaSdychik"
      }
    },
    {
      "cell_type": "code",
      "source": [
        "# DQL stands for Data Query Language, which is a subset of SQL used to retrieve data from a database."
      ],
      "metadata": {
        "id": "mcv8x1XjckVE"
      },
      "execution_count": null,
      "outputs": []
    },
    {
      "cell_type": "code",
      "source": [
        "SELECT name, salary FROM employee WHERE salary > 50000;"
      ],
      "metadata": {
        "id": "1XFgN9_Ifdwk"
      },
      "execution_count": null,
      "outputs": []
    },
    {
      "cell_type": "markdown",
      "source": [
        "Q5. Explain Primary Key and Foreign Key."
      ],
      "metadata": {
        "id": "4KSR9E8pclKs"
      }
    },
    {
      "cell_type": "code",
      "source": [
        "# a primary key is a column or set of columns in a table that uniquely identifies each row in that table. \n",
        "# A foreign key, on the other hand, is a column or set of columns in one table that refers to the primary key of another table."
      ],
      "metadata": {
        "id": "L97wrBoBcnBs"
      },
      "execution_count": null,
      "outputs": []
    },
    {
      "cell_type": "markdown",
      "source": [
        "Q6. Write a python code to connect MySQL to python. Explain the cursor() and execute() method."
      ],
      "metadata": {
        "id": "63Cj-dE3cncc"
      }
    },
    {
      "cell_type": "code",
      "source": [
        "import mysql.connector\n",
        "\n",
        "# Connect to MySQL database\n",
        "mydb = mysql.connector.connect(\n",
        "  host=\"localhost\",\n",
        "  user=\"yourusername\",\n",
        "  password=\"yourpassword\",\n",
        "  database=\"yourdatabase\"\n",
        ")\n",
        "\n",
        "# Create a cursor object\n",
        "mycursor = mydb.cursor()\n",
        "\n",
        "# Execute a SELECT query\n",
        "mycursor.execute(\"SELECT * FROM customers\")\n",
        "\n",
        "# Fetch all rows of the query result\n",
        "result = mycursor.fetchall()\n",
        "\n",
        "# Print each row\n",
        "for row in result:\n",
        "  print(row)"
      ],
      "metadata": {
        "id": "N6lWlnZvcp3k"
      },
      "execution_count": null,
      "outputs": []
    },
    {
      "cell_type": "markdown",
      "source": [
        "Q7. Give the order of execution of SQL clauses in an SQL query."
      ],
      "metadata": {
        "id": "KNwm_IgOcqaU"
      }
    },
    {
      "cell_type": "code",
      "source": [
        "FROM\n",
        "WHERE\n",
        "GROUP BY\n",
        "HAVING \n",
        "SELECT\n",
        "ORDER BY\n",
        "LIMIT"
      ],
      "metadata": {
        "id": "5Dzgx_5zcsN1"
      },
      "execution_count": null,
      "outputs": []
    }
  ]
}