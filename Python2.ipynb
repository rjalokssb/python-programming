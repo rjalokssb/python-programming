{
  "nbformat": 4,
  "nbformat_minor": 0,
  "metadata": {
    "colab": {
      "provenance": []
    },
    "kernelspec": {
      "name": "python3",
      "display_name": "Python 3"
    },
    "language_info": {
      "name": "python"
    }
  },
  "cells": [
    {
      "cell_type": "markdown",
      "source": [
        "Q1. Which keyword is used to create a function? Create a function to return a list of odd numbers in the\n",
        "range of 1 to 25."
      ],
      "metadata": {
        "id": "7NVA5ezT_NmI"
      }
    },
    {
      "cell_type": "code",
      "execution_count": 4,
      "metadata": {
        "colab": {
          "base_uri": "https://localhost:8080/"
        },
        "id": "4E2U8eIe_LiX",
        "outputId": "f4eb65ac-cfba-4f0b-a1c9-ab6cb07f5c19"
      },
      "outputs": [
        {
          "output_type": "stream",
          "name": "stdout",
          "text": [
            "[1, 3, 5, 7, 9, 11, 13, 15, 17, 19, 21, 23, 25]\n"
          ]
        }
      ],
      "source": [
        "# def\n",
        "def odd_number():\n",
        "  return [num for num in range(1,26) if num % 2 != 0]\n",
        "print(odd_number())"
      ]
    },
    {
      "cell_type": "markdown",
      "source": [
        "Q2. Why *args and **kwargs is used in some functions? Create a function each for *args and **kwargs\n",
        "to demonstrate their use."
      ],
      "metadata": {
        "id": "OpjHBanr_Qq3"
      }
    },
    {
      "cell_type": "code",
      "source": [
        "# *args and **kwargs are used in Python functions when the number of arguments that a function can accept is not known beforehand\n",
        "\n",
        "def sum_of_num(*args):\n",
        "  total = 0\n",
        "  for num in args:\n",
        "    total = total + num\n",
        "  return total"
      ],
      "metadata": {
        "id": "suQ2xTbQ_Svn"
      },
      "execution_count": 5,
      "outputs": []
    },
    {
      "cell_type": "code",
      "source": [
        "sum_of_num(1,2,3)"
      ],
      "metadata": {
        "colab": {
          "base_uri": "https://localhost:8080/"
        },
        "id": "m9vMbnCvBYzJ",
        "outputId": "6db21c85-e6c5-4d84-a778-025a9e5ab7b3"
      },
      "execution_count": 6,
      "outputs": [
        {
          "output_type": "execute_result",
          "data": {
            "text/plain": [
              "6"
            ]
          },
          "metadata": {},
          "execution_count": 6
        }
      ]
    },
    {
      "cell_type": "code",
      "source": [
        "def print_values(**kwargs):\n",
        "    for key, value in kwargs.items():\n",
        "        print(key, value)"
      ],
      "metadata": {
        "id": "5-6ep25aBYka"
      },
      "execution_count": 7,
      "outputs": []
    },
    {
      "cell_type": "code",
      "source": [
        "print_values(name='John', age=30, city='New York')"
      ],
      "metadata": {
        "colab": {
          "base_uri": "https://localhost:8080/"
        },
        "id": "PLzRJupUBoqr",
        "outputId": "9c001c14-1312-4e08-e37b-6ef871da2edb"
      },
      "execution_count": 8,
      "outputs": [
        {
          "output_type": "stream",
          "name": "stdout",
          "text": [
            "name John\n",
            "age 30\n",
            "city New York\n"
          ]
        }
      ]
    },
    {
      "cell_type": "markdown",
      "source": [
        "Q3. What is an iterator in python? Name the method used to initialise the iterator object and the method\n",
        "used for iteration. Use these methods to print the first five elements of the given list [2, 4, 6, 8, 10, 12, 14,\n",
        "16, 18, 20]."
      ],
      "metadata": {
        "id": "l5ykSUrT_UEv"
      }
    },
    {
      "cell_type": "code",
      "source": [
        "# An iterator is an object in Python that represents a stream of data. It allows you to traverse a sequence of data, one element at a time, \n",
        "# In Python, you can create an iterator object by calling the iter() function on an iterable object such as a list, tuple, or string.\n",
        "my_list = [2, 4, 6, 8, 10, 12, 14, 16, 18, 20]\n",
        "my_iterator = iter(my_list)\n",
        "\n",
        "for i in range(5):\n",
        "    print(next(my_iterator))"
      ],
      "metadata": {
        "colab": {
          "base_uri": "https://localhost:8080/"
        },
        "id": "BUXC25lB_Utf",
        "outputId": "232b055e-569c-4404-b0f4-6409c83a0b8a"
      },
      "execution_count": 9,
      "outputs": [
        {
          "output_type": "stream",
          "name": "stdout",
          "text": [
            "2\n",
            "4\n",
            "6\n",
            "8\n",
            "10\n"
          ]
        }
      ]
    },
    {
      "cell_type": "markdown",
      "source": [
        "Q4. What is a generator function in python? Why yield keyword is used? Give an example of a generator\n",
        "function."
      ],
      "metadata": {
        "id": "fZ17iZ4j_WNH"
      }
    },
    {
      "cell_type": "code",
      "source": [
        "# A generator function is a special type of function in Python that uses the yield keyword to produce a sequence of values that can be iterated over.\n",
        "def generate_even_numbers(n):\n",
        "    for num in range(0, n*2, 2):\n",
        "        yield num"
      ],
      "metadata": {
        "id": "H-esjtro_Wrf"
      },
      "execution_count": 10,
      "outputs": []
    },
    {
      "cell_type": "code",
      "source": [
        "my_generator = generate_even_numbers(5)\n",
        "\n",
        "for num in my_generator:\n",
        "    print(num)"
      ],
      "metadata": {
        "colab": {
          "base_uri": "https://localhost:8080/"
        },
        "id": "iPxgnLWqCmUc",
        "outputId": "f09d27c9-b171-4e74-a469-0eb9046c55f4"
      },
      "execution_count": 11,
      "outputs": [
        {
          "output_type": "stream",
          "name": "stdout",
          "text": [
            "0\n",
            "2\n",
            "4\n",
            "6\n",
            "8\n"
          ]
        }
      ]
    },
    {
      "cell_type": "markdown",
      "source": [
        "Q5. Create a generator function for prime numbers less than 1000. Use the next() method to print the\n",
        "first 20 prime numbers."
      ],
      "metadata": {
        "id": "g9_OkvJn_YSP"
      }
    },
    {
      "cell_type": "code",
      "source": [
        "def generate_even_numbers(n):\n",
        "    for num in range(0, n*2, 2):\n",
        "        yield num"
      ],
      "metadata": {
        "id": "pAZWv534_Ytf"
      },
      "execution_count": 28,
      "outputs": []
    },
    {
      "cell_type": "markdown",
      "source": [
        "Q6. Write a python program to print the first 10 Fibonacci numbers using a while loop."
      ],
      "metadata": {
        "id": "hTgMfLXN_ac_"
      }
    },
    {
      "cell_type": "code",
      "source": [
        "def generate_primes():\n",
        "    num = 2\n",
        "    while num < 1000:\n",
        "        if all(num % i != 0 for i in range(2, int(num**0.5) + 1)):\n",
        "            yield num\n",
        "        num += 1\n",
        "\n",
        "my_generator = generate_primes()\n",
        "\n",
        "for i in range(20):\n",
        "    print(next(my_generator))"
      ],
      "metadata": {
        "colab": {
          "base_uri": "https://localhost:8080/"
        },
        "id": "3rzqEoE-_bSn",
        "outputId": "ed90acd9-33d0-46f1-dfef-be0fe05cc611"
      },
      "execution_count": 22,
      "outputs": [
        {
          "output_type": "stream",
          "name": "stdout",
          "text": [
            "2\n",
            "3\n",
            "5\n",
            "7\n",
            "11\n",
            "13\n",
            "17\n",
            "19\n",
            "23\n",
            "29\n",
            "31\n",
            "37\n",
            "41\n",
            "43\n",
            "47\n",
            "53\n",
            "59\n",
            "61\n",
            "67\n",
            "71\n"
          ]
        }
      ]
    },
    {
      "cell_type": "markdown",
      "source": [
        "Q7. Write a List Comprehension to iterate through the given string: ‘pwskills’.\n",
        "Expected output: ['p', 'w', 's', 'k', 'i', 'l', 'l', 's']"
      ],
      "metadata": {
        "id": "ip80HlSy_cwo"
      }
    },
    {
      "cell_type": "code",
      "source": [
        "my_string = \"pwskills\"\n",
        "my_list = [char for char in my_string]\n",
        "my_list"
      ],
      "metadata": {
        "colab": {
          "base_uri": "https://localhost:8080/"
        },
        "id": "zkFhRoEk_dUo",
        "outputId": "33e420b7-199a-4051-a5ff-7517a05085d8"
      },
      "execution_count": 23,
      "outputs": [
        {
          "output_type": "execute_result",
          "data": {
            "text/plain": [
              "['p', 'w', 's', 'k', 'i', 'l', 'l', 's']"
            ]
          },
          "metadata": {},
          "execution_count": 23
        }
      ]
    },
    {
      "cell_type": "markdown",
      "source": [
        "Q8. Write a python program to check whether a given number is Palindrome or not using a while loop."
      ],
      "metadata": {
        "id": "b13aU5T7_dtA"
      }
    },
    {
      "cell_type": "code",
      "source": [
        "num = int(input('enter the number'))\n",
        "\n",
        "temp = num\n",
        "rev = 0\n",
        "\n",
        "while temp > 0:\n",
        "  digit = temp % 10\n",
        "  rev = rev * 10 + digit\n",
        "  temp = temp // 10\n",
        "\n",
        "if num == rev:\n",
        "    print(num, \"is a palindrome\")\n",
        "else:\n",
        "    print(num, \"is not a palindrome\") "
      ],
      "metadata": {
        "colab": {
          "base_uri": "https://localhost:8080/"
        },
        "id": "VXFyzLGb_gCI",
        "outputId": "85596bbf-77a3-4f36-8b63-8145e3e04d0c"
      },
      "execution_count": 26,
      "outputs": [
        {
          "output_type": "stream",
          "name": "stdout",
          "text": [
            "enter the number151\n",
            "151 is a palindrome\n"
          ]
        }
      ]
    },
    {
      "cell_type": "markdown",
      "source": [
        "Q9. Write a code to print odd numbers from 1 to 100 using list comprehension.\n",
        "Note: Use a list comprehension to create a list from 1 to 100 and use another List comprehension to filter\n",
        "out odd numbers."
      ],
      "metadata": {
        "id": "Q76100rR_gh4"
      }
    },
    {
      "cell_type": "code",
      "source": [
        "odd_numbers = [num for num in range(1, 101) if num % 2 != 0]\n",
        "\n",
        "print(odd_numbers)"
      ],
      "metadata": {
        "colab": {
          "base_uri": "https://localhost:8080/"
        },
        "id": "9FpEDY9B_h_A",
        "outputId": "ab06b440-382b-4fc2-a82d-bb2f29c78e92"
      },
      "execution_count": 27,
      "outputs": [
        {
          "output_type": "stream",
          "name": "stdout",
          "text": [
            "[1, 3, 5, 7, 9, 11, 13, 15, 17, 19, 21, 23, 25, 27, 29, 31, 33, 35, 37, 39, 41, 43, 45, 47, 49, 51, 53, 55, 57, 59, 61, 63, 65, 67, 69, 71, 73, 75, 77, 79, 81, 83, 85, 87, 89, 91, 93, 95, 97, 99]\n"
          ]
        }
      ]
    }
  ]
}