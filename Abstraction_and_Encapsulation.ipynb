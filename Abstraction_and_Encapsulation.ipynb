{
  "nbformat": 4,
  "nbformat_minor": 0,
  "metadata": {
    "colab": {
      "provenance": []
    },
    "kernelspec": {
      "name": "python3",
      "display_name": "Python 3"
    },
    "language_info": {
      "name": "python"
    }
  },
  "cells": [
    {
      "cell_type": "markdown",
      "source": [
        "Q1. What is Abstraction in OOps? Explain with an example."
      ],
      "metadata": {
        "id": "SRluJOgAMAHj"
      }
    },
    {
      "cell_type": "code",
      "execution_count": null,
      "metadata": {
        "id": "_YOVmqQqL_Uc"
      },
      "outputs": [],
      "source": [
        "a class can be designed with the essential methods and properties that are necessary for it to function, while hiding the implementation details. This allows the class to be used in a variety of contexts without requiring the user to understand how it works under the hood. For example, a bank account class might have methods for depositing and withdrawing money, but the internal logic for how those actions are performed is hidden from the user."
      ]
    },
    {
      "cell_type": "markdown",
      "source": [
        "Q2. Differentiate between Abstraction and Encapsulation. Explain with an example."
      ],
      "metadata": {
        "id": "16_By8iSMBRi"
      }
    },
    {
      "cell_type": "code",
      "source": [
        "# Abstraction is the process of hiding unnecessary details while showing only the essential features of an object to the outside world. \n",
        "# Encapsulation, on the other hand, is the process of wrapping data and methods into a single unit and controlling access to that unit through a well-defined interface. It is about protecting an object's internal state from external interference. \n",
        "\n"
      ],
      "metadata": {
        "id": "2TNfLKjzMDCa"
      },
      "execution_count": null,
      "outputs": []
    },
    {
      "cell_type": "markdown",
      "source": [
        "Q3. What is abc module in python? Why is it used?"
      ],
      "metadata": {
        "id": "DDc1uiMUMDba"
      }
    },
    {
      "cell_type": "code",
      "source": [
        "# The abc module in Python stands for Abstract Base Classes. It provides a way to define abstract classes in Python."
      ],
      "metadata": {
        "id": "ZtuKLWtvMFHT"
      },
      "execution_count": null,
      "outputs": []
    },
    {
      "cell_type": "markdown",
      "source": [
        "Q4. How can we achieve data abstraction?"
      ],
      "metadata": {
        "id": "sVnYluHhMFeb"
      }
    },
    {
      "cell_type": "code",
      "source": [
        "# Encapsulation:\n",
        "# Abstract classes\n",
        "# Interfaces\n"
      ],
      "metadata": {
        "id": "Yc_AGq7qMHDj"
      },
      "execution_count": null,
      "outputs": []
    },
    {
      "cell_type": "markdown",
      "source": [
        "Q5. Can we create an instance of an abstract class? Explain your answer."
      ],
      "metadata": {
        "id": "2at20CRTMHaL"
      }
    },
    {
      "cell_type": "code",
      "source": [
        "# No, we cannot create an instance of an abstract class in Python."
      ],
      "metadata": {
        "id": "Umf0xu6WMJek"
      },
      "execution_count": null,
      "outputs": []
    }
  ]
}